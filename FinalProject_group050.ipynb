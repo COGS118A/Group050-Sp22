{
 "cells": [
  {
   "cell_type": "markdown",
   "metadata": {},
   "source": [
    "# COGS 118A- Project Checkpoint"
   ]
  },
  {
   "cell_type": "markdown",
   "metadata": {},
   "source": [
    "# Names\n",
    "\n",
    "Hopefully your team is at least this good. Obviously you should replace these with your names.\n",
    "\n",
    "- Zhaoge Ouyang\n",
    "- Bateliel Bassa\n",
    "- Jason Hsu\n",
    "- Kevin Thai\n",
    "- Katelyn Dang"
   ]
  },
  {
   "cell_type": "markdown",
   "metadata": {},
   "source": [
    "# Abstract \n",
    "Heart disease is one of the leading medical issues in the U.S. that has affected “as of 2018, 30.3 million U.S. adults”<a name=\"https://www.healthline.com/health/heart-disease/statistics\"></a>[<sup>[1]</sup>](https://www.healthline.com/health/heart-disease/statistics) as reported by the CDC (Centers for Disease Control and Prevention). Our team would like to find out patterns that may lead to high risk of heart disease and possibly predict if a patient is at a high risk. We will be using 2020 annual CDC survey data of 320k adults related to their health status, provided on Kaggle. The data includes various variables regarding a patient's lifestyle and physical health, such as a person's BMI or whether they have smoked a certain number of cigarettes in their life, measured as a yes/no question. We will be training models to detect “patterns”, such that we can predict a patient’s heart condition and whether or not a patient is more likely to have heart diseases. We will split the dataset to 80% training, 10% validation, and 10% test set. With around 320,000 valid observations, the training set will have about 256,000 observations, while the validation and test set will have 64,000 observations each. The performance will be measured with accuracy."
   ]
  },
  {
   "cell_type": "markdown",
   "metadata": {},
   "source": [
    "# Background\n",
    "\n",
    "Heart disease is one of the leading causes of death around the world. According to CDC, 659,000 people die from heart diseases in the United States. There are many factors that contribute to heart disease, including lifestyle and genetics. Health conditions such as high blood pressure, unhealthy blood cholesterol level, diabetes, and obesity increase the risk of heart dieseases. In addition, behaviors such as a diet high in saturated fat, trans fat, lack of physical exercise, alcohol abuse, tobacco use also increases a patient’s risk of heart diseases. Other than life styles, genetics and race also affect the risk of heart diseases. Genetic factors affect the risk of health conditions that are related to heart diseases, and some races are more likely to to be at risk of heart diseases than others. Lastly, heart diseases tend to happen more often as age goes up<a name=\"admonish\"></a>[<sup>[2]</sup>](#admonishnote)."
   ]
  },
  {
   "cell_type": "markdown",
   "metadata": {},
   "source": [
    "# Problem Statement\n",
    "\n",
    "Currently, there aren’t many tools that are able to predict the likelihood of whether a patient is at risk of heart diseases based on their lifestyle and genetics. Therefore, we want to train a model that can properly make predictions on whether a patient may have heart disease.\n",
    " Whether the patient is at potential risk of heart disease will be measured as a simple 0 or 1 output, 0 for if the patient is less likely to be at risk and 1 for if the patient is at possible risk. By reviewing the prediction outcomes, we will also be able to determine which parameters contribute the most heavily to potential risk of heart diseases. Given appropriate data that matches the variables/parameters our model is trained on, the model should be able to produce a prediction of a patient’s risk for heart disease. "
   ]
  },
  {
   "cell_type": "markdown",
   "metadata": {},
   "source": [
    "# Data\n",
    "\n",
    "We will be using 2020 annual CDC survey data of 320k adults related to their health status, obtained on Kaggle<a name=\"https://www.kaggle.com/datasets/kamilpytlak/personal-key-indicators-of-heart-disease\"></a>[<sup>[3]</sup>](https://www.kaggle.com/datasets/kamilpytlak/personal-key-indicators-of-heart-disease). The dataset includes 18 variables and ~320,000 observations. Variables includes health related status such as had heart disease, smoked 100 cigarettes in their lifetime, having at least 7 (female) /14 (male) drinks a week depending, had a stroke, considered their physical or mental health to be “unwell” over the past 30 days, difficulty walking up stairs, gender, age, and BMI.\n",
    "\n",
    "The dataset includes various kinds of data types.Gender questions were answered as Male/Female, race was measured by the participants ethnicity, General health was measured on a likert scale, age category was answered as a range from 18-24 to 80-over, BMI and sleeping time was measured as a specific number, physical and mental health from a range from 0-30, and all other variables were answered as Yes/No.From the dataset, the data on heart diseases, smoking, age, physical activity, and race are the most important to help answer our research question. Smoking, age, physical activity, and race are suspected links to heart diseases and by studying and analyzing the data between heart diseases and these links, we may be able to find which variables can increase the risk of heart disease. \n",
    "\n",
    "To better handle the data, we will need to transform binary data types and categorical data into one-hot encoding (i.e. The Gender column would be split into Male and Female columns). In addition, there are only about 9% of data that are labeled as having heart disease or myocardial infarction. To combat the unbalanced proportion of data is to undersample our data (reduce the number of data that contains negative cases). Note that if we proceed with undersampling data, we will lose a lot of information. However, since the dataset is quite huge, we should still have a sufficient amount of data to work with. Another possible problem we may encounter is that many features seem to also be unbalanced (i.e. proportion of people who have kidney disease is much lower than people who don’t). Therefore, we may also need to balance weights by giving the smaller class more weights.\n",
    "\n",
    "\n",
    "There are certain features of this dataset that may be particularly useful in attempting to predict risk for heart disease. Some of these features are smoking, drinking alcohol, physical health, mental health, age, physical activity, as well as sex and general health. Our reasoning for choosing these features as the most important is that they come from the CDC website regarding risks for heart disease<a name=\"https://www.cdc.gov/heartdisease/risk_factors.htm\"></a>[<sup>[4]</sup>](https://www.cdc.gov/heartdisease/risk_factors.htm). These features also line up with what we would think are relevant factors to heart disease, especially features such as smoking and physical health and activity.\n",
    "\n",
    "### Data Handling"
   ]
  },
  {
   "cell_type": "code",
   "execution_count": null,
   "metadata": {},
   "outputs": [],
   "source": [
    "import pandas as pd\n",
    "import matplotlib.pyplot as plt\n",
    "import numpy as np"
   ]
  },
  {
   "cell_type": "code",
   "execution_count": null,
   "metadata": {},
   "outputs": [
    {
     "data": {
      "text/html": [
       "<div>\n",
       "<style scoped>\n",
       "    .dataframe tbody tr th:only-of-type {\n",
       "        vertical-align: middle;\n",
       "    }\n",
       "\n",
       "    .dataframe tbody tr th {\n",
       "        vertical-align: top;\n",
       "    }\n",
       "\n",
       "    .dataframe thead th {\n",
       "        text-align: right;\n",
       "    }\n",
       "</style>\n",
       "<table border=\"1\" class=\"dataframe\">\n",
       "  <thead>\n",
       "    <tr style=\"text-align: right;\">\n",
       "      <th></th>\n",
       "      <th>HeartDisease</th>\n",
       "      <th>BMI</th>\n",
       "      <th>Smoking</th>\n",
       "      <th>AlcoholDrinking</th>\n",
       "      <th>Stroke</th>\n",
       "      <th>PhysicalHealth</th>\n",
       "      <th>MentalHealth</th>\n",
       "      <th>DiffWalking</th>\n",
       "      <th>Sex</th>\n",
       "      <th>AgeCategory</th>\n",
       "      <th>Race</th>\n",
       "      <th>Diabetic</th>\n",
       "      <th>PhysicalActivity</th>\n",
       "      <th>GenHealth</th>\n",
       "      <th>SleepTime</th>\n",
       "      <th>Asthma</th>\n",
       "      <th>KidneyDisease</th>\n",
       "      <th>SkinCancer</th>\n",
       "    </tr>\n",
       "  </thead>\n",
       "  <tbody>\n",
       "    <tr>\n",
       "      <th>0</th>\n",
       "      <td>No</td>\n",
       "      <td>16.60</td>\n",
       "      <td>Yes</td>\n",
       "      <td>No</td>\n",
       "      <td>No</td>\n",
       "      <td>3.0</td>\n",
       "      <td>30.0</td>\n",
       "      <td>No</td>\n",
       "      <td>Female</td>\n",
       "      <td>55-59</td>\n",
       "      <td>White</td>\n",
       "      <td>Yes</td>\n",
       "      <td>Yes</td>\n",
       "      <td>Very good</td>\n",
       "      <td>5.0</td>\n",
       "      <td>Yes</td>\n",
       "      <td>No</td>\n",
       "      <td>Yes</td>\n",
       "    </tr>\n",
       "    <tr>\n",
       "      <th>1</th>\n",
       "      <td>No</td>\n",
       "      <td>20.34</td>\n",
       "      <td>No</td>\n",
       "      <td>No</td>\n",
       "      <td>Yes</td>\n",
       "      <td>0.0</td>\n",
       "      <td>0.0</td>\n",
       "      <td>No</td>\n",
       "      <td>Female</td>\n",
       "      <td>80 or older</td>\n",
       "      <td>White</td>\n",
       "      <td>No</td>\n",
       "      <td>Yes</td>\n",
       "      <td>Very good</td>\n",
       "      <td>7.0</td>\n",
       "      <td>No</td>\n",
       "      <td>No</td>\n",
       "      <td>No</td>\n",
       "    </tr>\n",
       "    <tr>\n",
       "      <th>2</th>\n",
       "      <td>No</td>\n",
       "      <td>26.58</td>\n",
       "      <td>Yes</td>\n",
       "      <td>No</td>\n",
       "      <td>No</td>\n",
       "      <td>20.0</td>\n",
       "      <td>30.0</td>\n",
       "      <td>No</td>\n",
       "      <td>Male</td>\n",
       "      <td>65-69</td>\n",
       "      <td>White</td>\n",
       "      <td>Yes</td>\n",
       "      <td>Yes</td>\n",
       "      <td>Fair</td>\n",
       "      <td>8.0</td>\n",
       "      <td>Yes</td>\n",
       "      <td>No</td>\n",
       "      <td>No</td>\n",
       "    </tr>\n",
       "    <tr>\n",
       "      <th>3</th>\n",
       "      <td>No</td>\n",
       "      <td>24.21</td>\n",
       "      <td>No</td>\n",
       "      <td>No</td>\n",
       "      <td>No</td>\n",
       "      <td>0.0</td>\n",
       "      <td>0.0</td>\n",
       "      <td>No</td>\n",
       "      <td>Female</td>\n",
       "      <td>75-79</td>\n",
       "      <td>White</td>\n",
       "      <td>No</td>\n",
       "      <td>No</td>\n",
       "      <td>Good</td>\n",
       "      <td>6.0</td>\n",
       "      <td>No</td>\n",
       "      <td>No</td>\n",
       "      <td>Yes</td>\n",
       "    </tr>\n",
       "    <tr>\n",
       "      <th>4</th>\n",
       "      <td>No</td>\n",
       "      <td>23.71</td>\n",
       "      <td>No</td>\n",
       "      <td>No</td>\n",
       "      <td>No</td>\n",
       "      <td>28.0</td>\n",
       "      <td>0.0</td>\n",
       "      <td>Yes</td>\n",
       "      <td>Female</td>\n",
       "      <td>40-44</td>\n",
       "      <td>White</td>\n",
       "      <td>No</td>\n",
       "      <td>Yes</td>\n",
       "      <td>Very good</td>\n",
       "      <td>8.0</td>\n",
       "      <td>No</td>\n",
       "      <td>No</td>\n",
       "      <td>No</td>\n",
       "    </tr>\n",
       "  </tbody>\n",
       "</table>\n",
       "</div>"
      ],
      "text/plain": [
       "  HeartDisease    BMI Smoking AlcoholDrinking Stroke  PhysicalHealth  \\\n",
       "0           No  16.60     Yes              No     No             3.0   \n",
       "1           No  20.34      No              No    Yes             0.0   \n",
       "2           No  26.58     Yes              No     No            20.0   \n",
       "3           No  24.21      No              No     No             0.0   \n",
       "4           No  23.71      No              No     No            28.0   \n",
       "\n",
       "   MentalHealth DiffWalking     Sex  AgeCategory   Race Diabetic  \\\n",
       "0          30.0          No  Female        55-59  White      Yes   \n",
       "1           0.0          No  Female  80 or older  White       No   \n",
       "2          30.0          No    Male        65-69  White      Yes   \n",
       "3           0.0          No  Female        75-79  White       No   \n",
       "4           0.0         Yes  Female        40-44  White       No   \n",
       "\n",
       "  PhysicalActivity  GenHealth  SleepTime Asthma KidneyDisease SkinCancer  \n",
       "0              Yes  Very good        5.0    Yes            No        Yes  \n",
       "1              Yes  Very good        7.0     No            No         No  \n",
       "2              Yes       Fair        8.0    Yes            No         No  \n",
       "3               No       Good        6.0     No            No        Yes  \n",
       "4              Yes  Very good        8.0     No            No         No  "
      ]
     },
     "execution_count": 2,
     "metadata": {},
     "output_type": "execute_result"
    }
   ],
   "source": [
    "df = pd.read_csv('heart_2020_cleaned.csv')\n",
    "\n",
    "df.head()"
   ]
  },
  {
   "cell_type": "code",
   "execution_count": null,
   "metadata": {},
   "outputs": [
    {
     "name": "stdout",
     "output_type": "stream",
     "text": [
      "Columns:Index(['HeartDisease', 'BMI', 'Smoking', 'AlcoholDrinking', 'Stroke',\n",
      "       'PhysicalHealth', 'MentalHealth', 'DiffWalking', 'Sex', 'AgeCategory',\n",
      "       'Race', 'Diabetic', 'PhysicalActivity', 'GenHealth', 'SleepTime',\n",
      "       'Asthma', 'KidneyDisease', 'SkinCancer'],\n",
      "      dtype='object')\n",
      "Shapes:(319795, 18)\n"
     ]
    }
   ],
   "source": [
    "print(f'Columns:{df.columns}\\nShapes:{df.shape}')"
   ]
  },
  {
   "cell_type": "markdown",
   "metadata": {},
   "source": [
    "Shapes shown above shows that there are 319795 # of participants, 18 columns (17 variables with 1 label we are trying to predict)"
   ]
  },
  {
   "cell_type": "markdown",
   "metadata": {},
   "source": [
    "### Data Cleaning"
   ]
  },
  {
   "cell_type": "markdown",
   "metadata": {},
   "source": [
    "Look at the unique values form each catagorical data and decide how to conver the data"
   ]
  },
  {
   "cell_type": "code",
   "execution_count": null,
   "metadata": {
    "scrolled": false
   },
   "outputs": [
    {
     "name": "stdout",
     "output_type": "stream",
     "text": [
      "Catagorical Data Unique Outputs\n",
      "Heart Disease: ['No' 'Yes']\n",
      "Smoking: ['Yes' 'No']\n",
      "Alcohol Drinking: ['No' 'Yes']\n",
      "Stroke: ['No' 'Yes']\n",
      "Difficult in walking: ['No' 'Yes']\n",
      "Sex: ['Female' 'Male']\n",
      "Age: ['55-59' '80 or older' '65-69' '75-79' '40-44' '70-74' '60-64' '50-54'\n",
      " '45-49' '18-24' '35-39' '30-34' '25-29']\n",
      "Race: ['White' 'Black' 'Asian' 'American Indian/Alaskan Native' 'Other'\n",
      " 'Hispanic']\n",
      "Diabetic: ['Yes' 'No' 'No, borderline diabetes' 'Yes (during pregnancy)']\n",
      "Physical Activity: ['Yes' 'No']\n",
      "General Health: ['Very good' 'Fair' 'Good' 'Poor' 'Excellent']\n",
      "Asthma: ['Yes' 'No']\n",
      "Kidney Disease: ['No' 'Yes']\n",
      "Skin Cancer: ['Yes' 'No']\n"
     ]
    }
   ],
   "source": [
    "print(\"Catagorical Data Unique Outputs\")\n",
    "print(f\"Heart Disease: {df['HeartDisease'].unique()}\")\n",
    "print(f\"Smoking: {df['Smoking'].unique()}\")\n",
    "print(f\"Alcohol Drinking: {df['AlcoholDrinking'].unique()}\")\n",
    "print(f\"Stroke: {df['Stroke'].unique()}\")\n",
    "print(f\"Difficult in walking: {df['DiffWalking'].unique()}\")\n",
    "print(f\"Sex: {df['Sex'].unique()}\")\n",
    "print(f\"Age: {df['AgeCategory'].unique()}\")\n",
    "print(f\"Race: {df['Race'].unique()}\")\n",
    "print(f\"Diabetic: {df['Diabetic'].unique()}\")\n",
    "print(f\"Physical Activity: {df['PhysicalActivity'].unique()}\")\n",
    "print(f\"General Health: {df['GenHealth'].unique()}\")\n",
    "print(f\"Asthma: {df['Asthma'].unique()}\")\n",
    "print(f\"Kidney Disease: {df['KidneyDisease'].unique()}\")\n",
    "print(f\"Skin Cancer: {df['SkinCancer'].unique()}\")"
   ]
  },
  {
   "cell_type": "markdown",
   "metadata": {},
   "source": [
    "#### Encode Guide\n",
    "- Yes/No categories (multiple categories) => binary (1/0)\n",
    "- Race => one hot encoding\n",
    "- Diabetic => one hot encoding\n",
    "- Age => int rank (order encoded)\n",
    "- Sex => binary (renamed to Male as in Male = 1, Female = 0)\n",
    "- General Health category => int rank (order encoded)\n"
   ]
  },
  {
   "cell_type": "code",
   "execution_count": null,
   "metadata": {},
   "outputs": [],
   "source": [
    "# Functions\n",
    "yes_no_to_binary = lambda elem : 1 if elem == 'Yes' else 0\n",
    "sex_to_binary = lambda elem : 1 if elem == 'Male' else 0\n",
    "def genhealth_to_rank(elem):\n",
    "    if elem == 'Excellent':\n",
    "        return 4\n",
    "    if elem == 'Very good':\n",
    "        return 3\n",
    "    if elem == 'Good':\n",
    "        return 2\n",
    "    if elem == 'Fair':\n",
    "        return 1\n",
    "    if elem == 'Poor':\n",
    "        return 0\n",
    "    return \"ERROR\"\n",
    "\n",
    "def encode_age(age):\n",
    "    if age == '18-24':\n",
    "        return 18\n",
    "    elif age == '25-29':\n",
    "        return 25\n",
    "    elif age == '30-34':\n",
    "        return 30\n",
    "    elif age == '35-39':\n",
    "        return 35\n",
    "    elif age == '40-44':\n",
    "        return 40\n",
    "    elif age == '45-49':\n",
    "        return 45\n",
    "    elif age == '50-54':\n",
    "        return 50\n",
    "    elif age == '55-59':\n",
    "        return 55\n",
    "    elif age == '60-64':\n",
    "        return 60\n",
    "    elif age == '65-69':\n",
    "        return 65\n",
    "    elif age == '70-74':\n",
    "        return 70\n",
    "    elif age == '75-79':\n",
    "        return 75\n",
    "    return 80"
   ]
  },
  {
   "cell_type": "code",
   "execution_count": null,
   "metadata": {},
   "outputs": [],
   "source": [
    "# Yes/No Convertion\n",
    "df['HeartDisease'] = df['HeartDisease'].apply(yes_no_to_binary)\n",
    "df['Smoking'] = df['Smoking'].apply(yes_no_to_binary)\n",
    "df['AlcoholDrinking'] = df['AlcoholDrinking'].apply(yes_no_to_binary)\n",
    "df['Stroke'] = df['Stroke'].apply(yes_no_to_binary)\n",
    "df['DiffWalking'] = df['DiffWalking'].apply(yes_no_to_binary)\n",
    "df['PhysicalActivity'] = df['PhysicalActivity'].apply(yes_no_to_binary)\n",
    "df['Asthma'] = df['Asthma'].apply(yes_no_to_binary)\n",
    "df['KidneyDisease'] = df['KidneyDisease'].apply(yes_no_to_binary)\n",
    "df['SkinCancer'] = df['SkinCancer'].apply(yes_no_to_binary)\n",
    "\n",
    "# Dummy Variables Convertion\n",
    "dummy_race = pd.get_dummies(df['Race'])\n",
    "dummy_race.rename(columns={'American Indian/Alaskan Native':'American_Indian/Alaskan_Native'}, inplace=True)\n",
    "dummy_race.rename(columns={'Other':'Other_Race'}, inplace=True)\n",
    "df = pd.concat([df, dummy_race], axis=1).drop('Race', axis=1)\n",
    "\n",
    "dummy_diabetic = pd.get_dummies(df['Diabetic'])\n",
    "dummy_diabetic.rename(columns={'No, borderline diabetes':'Borderline_Diabetic'}, inplace=True)\n",
    "dummy_diabetic.rename(columns={'Yes (during pregnancy)':'Diabetic_during_pregnancy'}, inplace=True)\n",
    "dummy_diabetic.rename(columns={'Yes':'Diabetic'}, inplace=True)\n",
    "dummy_diabetic.rename(columns={'No':'Not_Diabetic'}, inplace=True)\n",
    "df = pd.concat([df, dummy_diabetic], axis=1).drop('Diabetic', axis=1)\n",
    "\n",
    "# Age Convertion\n",
    "df.rename(columns={'AgeCategory':'Age'}, inplace=True)\n",
    "df['Age'] = df['Age'].apply(encode_age)\n",
    "\n",
    "# Sex Convertion\n",
    "df.rename(columns={'Sex':'Male'}, inplace=True)\n",
    "df['Male'] = df['Male'].apply(sex_to_binary)\n",
    "\n",
    "# General Health Convertion\n",
    "df['GenHealth'] = df['GenHealth'].apply(genhealth_to_rank)"
   ]
  },
  {
   "cell_type": "markdown",
   "metadata": {},
   "source": [
    "### EDA"
   ]
  },
  {
   "cell_type": "code",
   "execution_count": null,
   "metadata": {},
   "outputs": [
    {
     "name": "stdout",
     "output_type": "stream",
     "text": [
      "<class 'pandas.core.frame.DataFrame'>\n",
      "RangeIndex: 319795 entries, 0 to 319794\n",
      "Data columns (total 25 columns):\n",
      " #   Column                          Non-Null Count   Dtype  \n",
      "---  ------                          --------------   -----  \n",
      " 0   HeartDisease                    319795 non-null  int64  \n",
      " 1   BMI                             319795 non-null  float64\n",
      " 2   Smoking                         319795 non-null  int64  \n",
      " 3   AlcoholDrinking                 319795 non-null  int64  \n",
      " 4   Stroke                          319795 non-null  int64  \n",
      " 5   PhysicalHealth                  319795 non-null  float64\n",
      " 6   MentalHealth                    319795 non-null  float64\n",
      " 7   DiffWalking                     319795 non-null  int64  \n",
      " 8   Male                            319795 non-null  int64  \n",
      " 9   Age                             319795 non-null  int64  \n",
      " 10  PhysicalActivity                319795 non-null  int64  \n",
      " 11  GenHealth                       319795 non-null  int64  \n",
      " 12  SleepTime                       319795 non-null  float64\n",
      " 13  Asthma                          319795 non-null  int64  \n",
      " 14  KidneyDisease                   319795 non-null  int64  \n",
      " 15  SkinCancer                      319795 non-null  int64  \n",
      " 16  American_Indian/Alaskan_Native  319795 non-null  uint8  \n",
      " 17  Asian                           319795 non-null  uint8  \n",
      " 18  Black                           319795 non-null  uint8  \n",
      " 19  Hispanic                        319795 non-null  uint8  \n",
      " 20  Other_Race                      319795 non-null  uint8  \n",
      " 21  White                           319795 non-null  uint8  \n",
      " 22  Not_Diabetic                    319795 non-null  uint8  \n",
      " 23  Borderline_Diabetic             319795 non-null  uint8  \n",
      " 24  Diabetic_during_pregnancy       319795 non-null  uint8  \n",
      "dtypes: float64(4), int64(12), uint8(9)\n",
      "memory usage: 41.8 MB\n"
     ]
    }
   ],
   "source": [
    "# Show datatype of cleaned data\n",
    "df.info()"
   ]
  },
  {
   "cell_type": "code",
   "execution_count": null,
   "metadata": {
    "scrolled": false
   },
   "outputs": [
    {
     "data": {
      "image/png": "[encoded data removed]",
      "text/plain": [
       "<Figure size 1440x1080 with 25 Axes>"
      ]
     },
     "metadata": {
      "needs_background": "light"
     },
     "output_type": "display_data"
    }
   ],
   "source": [
    "# View the distribution of the data\n",
    "df.hist(figsize=(20,15))\n",
    "plt.show()"
   ]
  },
  {
   "cell_type": "markdown",
   "metadata": {},
   "source": [
    "As shown above, the amount of people who does not have heart disease significantly outweights people who have."
   ]
  },
  {
   "cell_type": "code",
   "execution_count": null,
   "metadata": {},
   "outputs": [
    {
     "data": {
      "text/html": [
       "<div>\n",
       "<style scoped>\n",
       "    .dataframe tbody tr th:only-of-type {\n",
       "        vertical-align: middle;\n",
       "    }\n",
       "\n",
       "    .dataframe tbody tr th {\n",
       "        vertical-align: top;\n",
       "    }\n",
       "\n",
       "    .dataframe thead th {\n",
       "        text-align: right;\n",
       "    }\n",
       "</style>\n",
       "<table border=\"1\" class=\"dataframe\">\n",
       "  <thead>\n",
       "    <tr style=\"text-align: right;\">\n",
       "      <th></th>\n",
       "      <th>HeartDisease</th>\n",
       "      <th>BMI</th>\n",
       "      <th>Smoking</th>\n",
       "      <th>AlcoholDrinking</th>\n",
       "      <th>Stroke</th>\n",
       "      <th>PhysicalHealth</th>\n",
       "      <th>MentalHealth</th>\n",
       "      <th>DiffWalking</th>\n",
       "      <th>Male</th>\n",
       "      <th>Age</th>\n",
       "      <th>...</th>\n",
       "      <th>SkinCancer</th>\n",
       "      <th>American_Indian/Alaskan_Native</th>\n",
       "      <th>Asian</th>\n",
       "      <th>Black</th>\n",
       "      <th>Hispanic</th>\n",
       "      <th>Other_Race</th>\n",
       "      <th>White</th>\n",
       "      <th>Not_Diabetic</th>\n",
       "      <th>Borderline_Diabetic</th>\n",
       "      <th>Diabetic_during_pregnancy</th>\n",
       "    </tr>\n",
       "  </thead>\n",
       "  <tbody>\n",
       "    <tr>\n",
       "      <th>HeartDisease</th>\n",
       "      <td>1.000000</td>\n",
       "      <td>0.051803</td>\n",
       "      <td>0.107764</td>\n",
       "      <td>-0.032080</td>\n",
       "      <td>0.196835</td>\n",
       "      <td>0.170721</td>\n",
       "      <td>0.028591</td>\n",
       "      <td>0.201258</td>\n",
       "      <td>0.070040</td>\n",
       "      <td>0.232325</td>\n",
       "      <td>...</td>\n",
       "      <td>0.093317</td>\n",
       "      <td>0.008547</td>\n",
       "      <td>-0.030262</td>\n",
       "      <td>-0.010156</td>\n",
       "      <td>-0.036163</td>\n",
       "      <td>-0.003039</td>\n",
       "      <td>0.040121</td>\n",
       "      <td>-0.170977</td>\n",
       "      <td>0.016182</td>\n",
       "      <td>-0.013930</td>\n",
       "    </tr>\n",
       "    <tr>\n",
       "      <th>BMI</th>\n",
       "      <td>0.051803</td>\n",
       "      <td>1.000000</td>\n",
       "      <td>0.023118</td>\n",
       "      <td>-0.038816</td>\n",
       "      <td>0.019733</td>\n",
       "      <td>0.109788</td>\n",
       "      <td>0.064131</td>\n",
       "      <td>0.181678</td>\n",
       "      <td>0.026940</td>\n",
       "      <td>-0.001740</td>\n",
       "      <td>...</td>\n",
       "      <td>-0.033644</td>\n",
       "      <td>0.026347</td>\n",
       "      <td>-0.078643</td>\n",
       "      <td>0.080672</td>\n",
       "      <td>0.023750</td>\n",
       "      <td>0.012535</td>\n",
       "      <td>-0.049060</td>\n",
       "      <td>-0.208232</td>\n",
       "      <td>0.049231</td>\n",
       "      <td>0.008198</td>\n",
       "    </tr>\n",
       "    <tr>\n",
       "      <th>Smoking</th>\n",
       "      <td>0.107764</td>\n",
       "      <td>0.023118</td>\n",
       "      <td>1.000000</td>\n",
       "      <td>0.111768</td>\n",
       "      <td>0.061226</td>\n",
       "      <td>0.115352</td>\n",
       "      <td>0.085157</td>\n",
       "      <td>0.120074</td>\n",
       "      <td>0.085052</td>\n",
       "      <td>0.130384</td>\n",
       "      <td>...</td>\n",
       "      <td>0.033977</td>\n",
       "      <td>0.035667</td>\n",
       "      <td>-0.060308</td>\n",
       "      <td>-0.038249</td>\n",
       "      <td>-0.066873</td>\n",
       "      <td>0.016205</td>\n",
       "      <td>0.072367</td>\n",
       "      <td>-0.055127</td>\n",
       "      <td>0.007143</td>\n",
       "      <td>-0.005385</td>\n",
       "    </tr>\n",
       "    <tr>\n",
       "      <th>AlcoholDrinking</th>\n",
       "      <td>-0.032080</td>\n",
       "      <td>-0.038816</td>\n",
       "      <td>0.111768</td>\n",
       "      <td>1.000000</td>\n",
       "      <td>-0.019858</td>\n",
       "      <td>-0.017254</td>\n",
       "      <td>0.051282</td>\n",
       "      <td>-0.035328</td>\n",
       "      <td>0.004200</td>\n",
       "      <td>-0.058837</td>\n",
       "      <td>...</td>\n",
       "      <td>-0.005702</td>\n",
       "      <td>-0.004243</td>\n",
       "      <td>-0.022275</td>\n",
       "      <td>-0.025980</td>\n",
       "      <td>-0.015554</td>\n",
       "      <td>0.005455</td>\n",
       "      <td>0.033342</td>\n",
       "      <td>0.057644</td>\n",
       "      <td>-0.008165</td>\n",
       "      <td>-0.004077</td>\n",
       "    </tr>\n",
       "    <tr>\n",
       "      <th>Stroke</th>\n",
       "      <td>0.196835</td>\n",
       "      <td>0.019733</td>\n",
       "      <td>0.061226</td>\n",
       "      <td>-0.019858</td>\n",
       "      <td>1.000000</td>\n",
       "      <td>0.137014</td>\n",
       "      <td>0.046467</td>\n",
       "      <td>0.174143</td>\n",
       "      <td>-0.003091</td>\n",
       "      <td>0.137280</td>\n",
       "      <td>...</td>\n",
       "      <td>0.048116</td>\n",
       "      <td>0.014357</td>\n",
       "      <td>-0.016060</td>\n",
       "      <td>0.024819</td>\n",
       "      <td>-0.025823</td>\n",
       "      <td>0.005743</td>\n",
       "      <td>0.001154</td>\n",
       "      <td>-0.102787</td>\n",
       "      <td>0.011172</td>\n",
       "      <td>-0.004526</td>\n",
       "    </tr>\n",
       "    <tr>\n",
       "      <th>PhysicalHealth</th>\n",
       "      <td>0.170721</td>\n",
       "      <td>0.109788</td>\n",
       "      <td>0.115352</td>\n",
       "      <td>-0.017254</td>\n",
       "      <td>0.137014</td>\n",
       "      <td>1.000000</td>\n",
       "      <td>0.287987</td>\n",
       "      <td>0.428373</td>\n",
       "      <td>-0.040904</td>\n",
       "      <td>0.110789</td>\n",
       "      <td>...</td>\n",
       "      <td>0.041700</td>\n",
       "      <td>0.022955</td>\n",
       "      <td>-0.035229</td>\n",
       "      <td>0.011371</td>\n",
       "      <td>-0.005571</td>\n",
       "      <td>0.016102</td>\n",
       "      <td>-0.003968</td>\n",
       "      <td>-0.153469</td>\n",
       "      <td>0.021437</td>\n",
       "      <td>-0.000773</td>\n",
       "    </tr>\n",
       "    <tr>\n",
       "      <th>MentalHealth</th>\n",
       "      <td>0.028591</td>\n",
       "      <td>0.064131</td>\n",
       "      <td>0.085157</td>\n",
       "      <td>0.051282</td>\n",
       "      <td>0.046467</td>\n",
       "      <td>0.287987</td>\n",
       "      <td>1.000000</td>\n",
       "      <td>0.152235</td>\n",
       "      <td>-0.100058</td>\n",
       "      <td>-0.155455</td>\n",
       "      <td>...</td>\n",
       "      <td>-0.033412</td>\n",
       "      <td>0.018394</td>\n",
       "      <td>-0.023113</td>\n",
       "      <td>0.010944</td>\n",
       "      <td>0.011167</td>\n",
       "      <td>0.031385</td>\n",
       "      <td>-0.024489</td>\n",
       "      <td>-0.032353</td>\n",
       "      <td>0.011056</td>\n",
       "      <td>0.018742</td>\n",
       "    </tr>\n",
       "    <tr>\n",
       "      <th>DiffWalking</th>\n",
       "      <td>0.201258</td>\n",
       "      <td>0.181678</td>\n",
       "      <td>0.120074</td>\n",
       "      <td>-0.035328</td>\n",
       "      <td>0.174143</td>\n",
       "      <td>0.428373</td>\n",
       "      <td>0.152235</td>\n",
       "      <td>1.000000</td>\n",
       "      <td>-0.068860</td>\n",
       "      <td>0.242552</td>\n",
       "      <td>...</td>\n",
       "      <td>0.064840</td>\n",
       "      <td>0.025205</td>\n",
       "      <td>-0.038830</td>\n",
       "      <td>0.039615</td>\n",
       "      <td>-0.008214</td>\n",
       "      <td>0.008483</td>\n",
       "      <td>-0.015516</td>\n",
       "      <td>-0.209640</td>\n",
       "      <td>0.031843</td>\n",
       "      <td>-0.007040</td>\n",
       "    </tr>\n",
       "    <tr>\n",
       "      <th>Male</th>\n",
       "      <td>0.070040</td>\n",
       "      <td>0.026940</td>\n",
       "      <td>0.085052</td>\n",
       "      <td>0.004200</td>\n",
       "      <td>-0.003091</td>\n",
       "      <td>-0.040904</td>\n",
       "      <td>-0.100058</td>\n",
       "      <td>-0.068860</td>\n",
       "      <td>1.000000</td>\n",
       "      <td>-0.067682</td>\n",
       "      <td>...</td>\n",
       "      <td>0.013434</td>\n",
       "      <td>-0.003434</td>\n",
       "      <td>0.013716</td>\n",
       "      <td>-0.037280</td>\n",
       "      <td>-0.003607</td>\n",
       "      <td>0.008762</td>\n",
       "      <td>0.017314</td>\n",
       "      <td>0.003636</td>\n",
       "      <td>-0.004295</td>\n",
       "      <td>-0.085477</td>\n",
       "    </tr>\n",
       "    <tr>\n",
       "      <th>Age</th>\n",
       "      <td>0.232325</td>\n",
       "      <td>-0.001740</td>\n",
       "      <td>0.130384</td>\n",
       "      <td>-0.058837</td>\n",
       "      <td>0.137280</td>\n",
       "      <td>0.110789</td>\n",
       "      <td>-0.155455</td>\n",
       "      <td>0.242552</td>\n",
       "      <td>-0.067682</td>\n",
       "      <td>1.000000</td>\n",
       "      <td>...</td>\n",
       "      <td>0.262208</td>\n",
       "      <td>-0.024922</td>\n",
       "      <td>-0.084104</td>\n",
       "      <td>-0.034563</td>\n",
       "      <td>-0.162269</td>\n",
       "      <td>-0.061319</td>\n",
       "      <td>0.193558</td>\n",
       "      <td>-0.204576</td>\n",
       "      <td>0.048657</td>\n",
       "      <td>-0.033325</td>\n",
       "    </tr>\n",
       "    <tr>\n",
       "      <th>PhysicalActivity</th>\n",
       "      <td>-0.100030</td>\n",
       "      <td>-0.150616</td>\n",
       "      <td>-0.097174</td>\n",
       "      <td>0.017487</td>\n",
       "      <td>-0.079455</td>\n",
       "      <td>-0.232283</td>\n",
       "      <td>-0.095808</td>\n",
       "      <td>-0.278524</td>\n",
       "      <td>0.048247</td>\n",
       "      <td>-0.121465</td>\n",
       "      <td>...</td>\n",
       "      <td>-0.001328</td>\n",
       "      <td>-0.017736</td>\n",
       "      <td>0.012106</td>\n",
       "      <td>-0.043701</td>\n",
       "      <td>-0.056564</td>\n",
       "      <td>0.001808</td>\n",
       "      <td>0.064172</td>\n",
       "      <td>0.135451</td>\n",
       "      <td>-0.017253</td>\n",
       "      <td>0.001501</td>\n",
       "    </tr>\n",
       "    <tr>\n",
       "      <th>GenHealth</th>\n",
       "      <td>-0.243182</td>\n",
       "      <td>-0.230720</td>\n",
       "      <td>-0.174717</td>\n",
       "      <td>0.029780</td>\n",
       "      <td>-0.168090</td>\n",
       "      <td>-0.482697</td>\n",
       "      <td>-0.241625</td>\n",
       "      <td>-0.413797</td>\n",
       "      <td>0.025947</td>\n",
       "      <td>-0.188236</td>\n",
       "      <td>...</td>\n",
       "      <td>-0.050641</td>\n",
       "      <td>-0.037600</td>\n",
       "      <td>0.032701</td>\n",
       "      <td>-0.062215</td>\n",
       "      <td>-0.028721</td>\n",
       "      <td>-0.015241</td>\n",
       "      <td>0.062656</td>\n",
       "      <td>0.273381</td>\n",
       "      <td>-0.047783</td>\n",
       "      <td>-0.001201</td>\n",
       "    </tr>\n",
       "    <tr>\n",
       "      <th>SleepTime</th>\n",
       "      <td>0.008327</td>\n",
       "      <td>-0.051822</td>\n",
       "      <td>-0.030336</td>\n",
       "      <td>-0.005065</td>\n",
       "      <td>0.011900</td>\n",
       "      <td>-0.061387</td>\n",
       "      <td>-0.119717</td>\n",
       "      <td>-0.022216</td>\n",
       "      <td>-0.015704</td>\n",
       "      <td>0.103071</td>\n",
       "      <td>...</td>\n",
       "      <td>0.041266</td>\n",
       "      <td>-0.003615</td>\n",
       "      <td>-0.019985</td>\n",
       "      <td>-0.020192</td>\n",
       "      <td>-0.013242</td>\n",
       "      <td>-0.031007</td>\n",
       "      <td>0.042905</td>\n",
       "      <td>-0.000494</td>\n",
       "      <td>-0.006957</td>\n",
       "      <td>-0.011668</td>\n",
       "    </tr>\n",
       "    <tr>\n",
       "      <th>Asthma</th>\n",
       "      <td>0.041444</td>\n",
       "      <td>0.092345</td>\n",
       "      <td>0.024149</td>\n",
       "      <td>-0.002202</td>\n",
       "      <td>0.038866</td>\n",
       "      <td>0.117907</td>\n",
       "      <td>0.114008</td>\n",
       "      <td>0.103222</td>\n",
       "      <td>-0.069191</td>\n",
       "      <td>-0.058235</td>\n",
       "      <td>...</td>\n",
       "      <td>-0.000396</td>\n",
       "      <td>0.013757</td>\n",
       "      <td>-0.017007</td>\n",
       "      <td>0.021297</td>\n",
       "      <td>0.003885</td>\n",
       "      <td>0.028037</td>\n",
       "      <td>-0.025421</td>\n",
       "      <td>-0.050782</td>\n",
       "      <td>0.016750</td>\n",
       "      <td>0.013282</td>\n",
       "    </tr>\n",
       "    <tr>\n",
       "      <th>KidneyDisease</th>\n",
       "      <td>0.145197</td>\n",
       "      <td>0.050768</td>\n",
       "      <td>0.034920</td>\n",
       "      <td>-0.028280</td>\n",
       "      <td>0.091167</td>\n",
       "      <td>0.142197</td>\n",
       "      <td>0.037281</td>\n",
       "      <td>0.153064</td>\n",
       "      <td>-0.009084</td>\n",
       "      <td>0.122697</td>\n",
       "      <td>...</td>\n",
       "      <td>0.061816</td>\n",
       "      <td>0.007401</td>\n",
       "      <td>-0.016957</td>\n",
       "      <td>0.010300</td>\n",
       "      <td>-0.010960</td>\n",
       "      <td>-0.002057</td>\n",
       "      <td>0.005933</td>\n",
       "      <td>-0.142371</td>\n",
       "      <td>0.004982</td>\n",
       "      <td>-0.004706</td>\n",
       "    </tr>\n",
       "    <tr>\n",
       "      <th>SkinCancer</th>\n",
       "      <td>0.093317</td>\n",
       "      <td>-0.033644</td>\n",
       "      <td>0.033977</td>\n",
       "      <td>-0.005702</td>\n",
       "      <td>0.048116</td>\n",
       "      <td>0.041700</td>\n",
       "      <td>-0.033412</td>\n",
       "      <td>0.064840</td>\n",
       "      <td>0.013434</td>\n",
       "      <td>0.262208</td>\n",
       "      <td>...</td>\n",
       "      <td>1.000000</td>\n",
       "      <td>-0.026784</td>\n",
       "      <td>-0.047749</td>\n",
       "      <td>-0.083390</td>\n",
       "      <td>-0.082360</td>\n",
       "      <td>-0.031905</td>\n",
       "      <td>0.144862</td>\n",
       "      <td>-0.034473</td>\n",
       "      <td>0.006025</td>\n",
       "      <td>-0.010092</td>\n",
       "    </tr>\n",
       "    <tr>\n",
       "      <th>American_Indian/Alaskan_Native</th>\n",
       "      <td>0.008547</td>\n",
       "      <td>0.026347</td>\n",
       "      <td>0.035667</td>\n",
       "      <td>-0.004243</td>\n",
       "      <td>0.014357</td>\n",
       "      <td>0.022955</td>\n",
       "      <td>0.018394</td>\n",
       "      <td>0.025205</td>\n",
       "      <td>-0.003434</td>\n",
       "      <td>-0.024922</td>\n",
       "      <td>...</td>\n",
       "      <td>-0.026784</td>\n",
       "      <td>1.000000</td>\n",
       "      <td>-0.020687</td>\n",
       "      <td>-0.035746</td>\n",
       "      <td>-0.039400</td>\n",
       "      <td>-0.024188</td>\n",
       "      <td>-0.233164</td>\n",
       "      <td>-0.028442</td>\n",
       "      <td>0.008356</td>\n",
       "      <td>0.003433</td>\n",
       "    </tr>\n",
       "    <tr>\n",
       "      <th>Asian</th>\n",
       "      <td>-0.030262</td>\n",
       "      <td>-0.078643</td>\n",
       "      <td>-0.060308</td>\n",
       "      <td>-0.022275</td>\n",
       "      <td>-0.016060</td>\n",
       "      <td>-0.035229</td>\n",
       "      <td>-0.023113</td>\n",
       "      <td>-0.038830</td>\n",
       "      <td>0.013716</td>\n",
       "      <td>-0.084104</td>\n",
       "      <td>...</td>\n",
       "      <td>-0.047749</td>\n",
       "      <td>-0.020687</td>\n",
       "      <td>1.000000</td>\n",
       "      <td>-0.044721</td>\n",
       "      <td>-0.049293</td>\n",
       "      <td>-0.030261</td>\n",
       "      <td>-0.291707</td>\n",
       "      <td>0.002578</td>\n",
       "      <td>0.023243</td>\n",
       "      <td>0.007260</td>\n",
       "    </tr>\n",
       "    <tr>\n",
       "      <th>Black</th>\n",
       "      <td>-0.010156</td>\n",
       "      <td>0.080672</td>\n",
       "      <td>-0.038249</td>\n",
       "      <td>-0.025980</td>\n",
       "      <td>0.024819</td>\n",
       "      <td>0.011371</td>\n",
       "      <td>0.010944</td>\n",
       "      <td>0.039615</td>\n",
       "      <td>-0.037280</td>\n",
       "      <td>-0.034563</td>\n",
       "      <td>...</td>\n",
       "      <td>-0.083390</td>\n",
       "      <td>-0.035746</td>\n",
       "      <td>-0.044721</td>\n",
       "      <td>1.000000</td>\n",
       "      <td>-0.085173</td>\n",
       "      <td>-0.052288</td>\n",
       "      <td>-0.504040</td>\n",
       "      <td>-0.055268</td>\n",
       "      <td>0.011827</td>\n",
       "      <td>-0.000892</td>\n",
       "    </tr>\n",
       "    <tr>\n",
       "      <th>Hispanic</th>\n",
       "      <td>-0.036163</td>\n",
       "      <td>0.023750</td>\n",
       "      <td>-0.066873</td>\n",
       "      <td>-0.015554</td>\n",
       "      <td>-0.025823</td>\n",
       "      <td>-0.005571</td>\n",
       "      <td>0.011167</td>\n",
       "      <td>-0.008214</td>\n",
       "      <td>-0.003607</td>\n",
       "      <td>-0.162269</td>\n",
       "      <td>...</td>\n",
       "      <td>-0.082360</td>\n",
       "      <td>-0.039400</td>\n",
       "      <td>-0.049293</td>\n",
       "      <td>-0.085173</td>\n",
       "      <td>1.000000</td>\n",
       "      <td>-0.057633</td>\n",
       "      <td>-0.555571</td>\n",
       "      <td>-0.012362</td>\n",
       "      <td>0.013951</td>\n",
       "      <td>0.012703</td>\n",
       "    </tr>\n",
       "    <tr>\n",
       "      <th>Other_Race</th>\n",
       "      <td>-0.003039</td>\n",
       "      <td>0.012535</td>\n",
       "      <td>0.016205</td>\n",
       "      <td>0.005455</td>\n",
       "      <td>0.005743</td>\n",
       "      <td>0.016102</td>\n",
       "      <td>0.031385</td>\n",
       "      <td>0.008483</td>\n",
       "      <td>0.008762</td>\n",
       "      <td>-0.061319</td>\n",
       "      <td>...</td>\n",
       "      <td>-0.031905</td>\n",
       "      <td>-0.024188</td>\n",
       "      <td>-0.030261</td>\n",
       "      <td>-0.052288</td>\n",
       "      <td>-0.057633</td>\n",
       "      <td>1.000000</td>\n",
       "      <td>-0.341064</td>\n",
       "      <td>-0.013281</td>\n",
       "      <td>0.018433</td>\n",
       "      <td>0.009767</td>\n",
       "    </tr>\n",
       "    <tr>\n",
       "      <th>White</th>\n",
       "      <td>0.040121</td>\n",
       "      <td>-0.049060</td>\n",
       "      <td>0.072367</td>\n",
       "      <td>0.033342</td>\n",
       "      <td>0.001154</td>\n",
       "      <td>-0.003968</td>\n",
       "      <td>-0.024489</td>\n",
       "      <td>-0.015516</td>\n",
       "      <td>0.017314</td>\n",
       "      <td>0.193558</td>\n",
       "      <td>...</td>\n",
       "      <td>0.144862</td>\n",
       "      <td>-0.233164</td>\n",
       "      <td>-0.291707</td>\n",
       "      <td>-0.504040</td>\n",
       "      <td>-0.555571</td>\n",
       "      <td>-0.341064</td>\n",
       "      <td>1.000000</td>\n",
       "      <td>0.055169</td>\n",
       "      <td>-0.035494</td>\n",
       "      <td>-0.015785</td>\n",
       "    </tr>\n",
       "    <tr>\n",
       "      <th>Not_Diabetic</th>\n",
       "      <td>-0.170977</td>\n",
       "      <td>-0.208232</td>\n",
       "      <td>-0.055127</td>\n",
       "      <td>0.057644</td>\n",
       "      <td>-0.102787</td>\n",
       "      <td>-0.153469</td>\n",
       "      <td>-0.032353</td>\n",
       "      <td>-0.209640</td>\n",
       "      <td>0.003636</td>\n",
       "      <td>-0.204576</td>\n",
       "      <td>...</td>\n",
       "      <td>-0.034473</td>\n",
       "      <td>-0.028442</td>\n",
       "      <td>0.002578</td>\n",
       "      <td>-0.055268</td>\n",
       "      <td>-0.012362</td>\n",
       "      <td>-0.013281</td>\n",
       "      <td>0.055169</td>\n",
       "      <td>1.000000</td>\n",
       "      <td>-0.341324</td>\n",
       "      <td>-0.208279</td>\n",
       "    </tr>\n",
       "    <tr>\n",
       "      <th>Borderline_Diabetic</th>\n",
       "      <td>0.016182</td>\n",
       "      <td>0.049231</td>\n",
       "      <td>0.007143</td>\n",
       "      <td>-0.008165</td>\n",
       "      <td>0.011172</td>\n",
       "      <td>0.021437</td>\n",
       "      <td>0.011056</td>\n",
       "      <td>0.031843</td>\n",
       "      <td>-0.004295</td>\n",
       "      <td>0.048657</td>\n",
       "      <td>...</td>\n",
       "      <td>0.006025</td>\n",
       "      <td>0.008356</td>\n",
       "      <td>0.023243</td>\n",
       "      <td>0.011827</td>\n",
       "      <td>0.013951</td>\n",
       "      <td>0.018433</td>\n",
       "      <td>-0.035494</td>\n",
       "      <td>-0.341324</td>\n",
       "      <td>1.000000</td>\n",
       "      <td>-0.013219</td>\n",
       "    </tr>\n",
       "    <tr>\n",
       "      <th>Diabetic_during_pregnancy</th>\n",
       "      <td>-0.013930</td>\n",
       "      <td>0.008198</td>\n",
       "      <td>-0.005385</td>\n",
       "      <td>-0.004077</td>\n",
       "      <td>-0.004526</td>\n",
       "      <td>-0.000773</td>\n",
       "      <td>0.018742</td>\n",
       "      <td>-0.007040</td>\n",
       "      <td>-0.085477</td>\n",
       "      <td>-0.033325</td>\n",
       "      <td>...</td>\n",
       "      <td>-0.010092</td>\n",
       "      <td>0.003433</td>\n",
       "      <td>0.007260</td>\n",
       "      <td>-0.000892</td>\n",
       "      <td>0.012703</td>\n",
       "      <td>0.009767</td>\n",
       "      <td>-0.015785</td>\n",
       "      <td>-0.208279</td>\n",
       "      <td>-0.013219</td>\n",
       "      <td>1.000000</td>\n",
       "    </tr>\n",
       "  </tbody>\n",
       "</table>\n",
       "<p>25 rows × 25 columns</p>\n",
       "</div>"
      ],
      "text/plain": [
       "                                HeartDisease       BMI   Smoking  \\\n",
       "HeartDisease                        1.000000  0.051803  0.107764   \n",
       "BMI                                 0.051803  1.000000  0.023118   \n",
       "Smoking                             0.107764  0.023118  1.000000   \n",
       "AlcoholDrinking                    -0.032080 -0.038816  0.111768   \n",
       "Stroke                              0.196835  0.019733  0.061226   \n",
       "PhysicalHealth                      0.170721  0.109788  0.115352   \n",
       "MentalHealth                        0.028591  0.064131  0.085157   \n",
       "DiffWalking                         0.201258  0.181678  0.120074   \n",
       "Male                                0.070040  0.026940  0.085052   \n",
       "Age                                 0.232325 -0.001740  0.130384   \n",
       "PhysicalActivity                   -0.100030 -0.150616 -0.097174   \n",
       "GenHealth                          -0.243182 -0.230720 -0.174717   \n",
       "SleepTime                           0.008327 -0.051822 -0.030336   \n",
       "Asthma                              0.041444  0.092345  0.024149   \n",
       "KidneyDisease                       0.145197  0.050768  0.034920   \n",
       "SkinCancer                          0.093317 -0.033644  0.033977   \n",
       "American_Indian/Alaskan_Native      0.008547  0.026347  0.035667   \n",
       "Asian                              -0.030262 -0.078643 -0.060308   \n",
       "Black                              -0.010156  0.080672 -0.038249   \n",
       "Hispanic                           -0.036163  0.023750 -0.066873   \n",
       "Other_Race                         -0.003039  0.012535  0.016205   \n",
       "White                               0.040121 -0.049060  0.072367   \n",
       "Not_Diabetic                       -0.170977 -0.208232 -0.055127   \n",
       "Borderline_Diabetic                 0.016182  0.049231  0.007143   \n",
       "Diabetic_during_pregnancy          -0.013930  0.008198 -0.005385   \n",
       "\n",
       "                                AlcoholDrinking    Stroke  PhysicalHealth  \\\n",
       "HeartDisease                          -0.032080  0.196835        0.170721   \n",
       "BMI                                   -0.038816  0.019733        0.109788   \n",
       "Smoking                                0.111768  0.061226        0.115352   \n",
       "AlcoholDrinking                        1.000000 -0.019858       -0.017254   \n",
       "Stroke                                -0.019858  1.000000        0.137014   \n",
       "PhysicalHealth                        -0.017254  0.137014        1.000000   \n",
       "MentalHealth                           0.051282  0.046467        0.287987   \n",
       "DiffWalking                           -0.035328  0.174143        0.428373   \n",
       "Male                                   0.004200 -0.003091       -0.040904   \n",
       "Age                                   -0.058837  0.137280        0.110789   \n",
       "PhysicalActivity                       0.017487 -0.079455       -0.232283   \n",
       "GenHealth                              0.029780 -0.168090       -0.482697   \n",
       "SleepTime                             -0.005065  0.011900       -0.061387   \n",
       "Asthma                                -0.002202  0.038866        0.117907   \n",
       "KidneyDisease                         -0.028280  0.091167        0.142197   \n",
       "SkinCancer                            -0.005702  0.048116        0.041700   \n",
       "American_Indian/Alaskan_Native        -0.004243  0.014357        0.022955   \n",
       "Asian                                 -0.022275 -0.016060       -0.035229   \n",
       "Black                                 -0.025980  0.024819        0.011371   \n",
       "Hispanic                              -0.015554 -0.025823       -0.005571   \n",
       "Other_Race                             0.005455  0.005743        0.016102   \n",
       "White                                  0.033342  0.001154       -0.003968   \n",
       "Not_Diabetic                           0.057644 -0.102787       -0.153469   \n",
       "Borderline_Diabetic                   -0.008165  0.011172        0.021437   \n",
       "Diabetic_during_pregnancy             -0.004077 -0.004526       -0.000773   \n",
       "\n",
       "                                MentalHealth  DiffWalking      Male       Age  \\\n",
       "HeartDisease                        0.028591     0.201258  0.070040  0.232325   \n",
       "BMI                                 0.064131     0.181678  0.026940 -0.001740   \n",
       "Smoking                             0.085157     0.120074  0.085052  0.130384   \n",
       "AlcoholDrinking                     0.051282    -0.035328  0.004200 -0.058837   \n",
       "Stroke                              0.046467     0.174143 -0.003091  0.137280   \n",
       "PhysicalHealth                      0.287987     0.428373 -0.040904  0.110789   \n",
       "MentalHealth                        1.000000     0.152235 -0.100058 -0.155455   \n",
       "DiffWalking                         0.152235     1.000000 -0.068860  0.242552   \n",
       "Male                               -0.100058    -0.068860  1.000000 -0.067682   \n",
       "Age                                -0.155455     0.242552 -0.067682  1.000000   \n",
       "PhysicalActivity                   -0.095808    -0.278524  0.048247 -0.121465   \n",
       "GenHealth                          -0.241625    -0.413797  0.025947 -0.188236   \n",
       "SleepTime                          -0.119717    -0.022216 -0.015704  0.103071   \n",
       "Asthma                              0.114008     0.103222 -0.069191 -0.058235   \n",
       "KidneyDisease                       0.037281     0.153064 -0.009084  0.122697   \n",
       "SkinCancer                         -0.033412     0.064840  0.013434  0.262208   \n",
       "American_Indian/Alaskan_Native      0.018394     0.025205 -0.003434 -0.024922   \n",
       "Asian                              -0.023113    -0.038830  0.013716 -0.084104   \n",
       "Black                               0.010944     0.039615 -0.037280 -0.034563   \n",
       "Hispanic                            0.011167    -0.008214 -0.003607 -0.162269   \n",
       "Other_Race                          0.031385     0.008483  0.008762 -0.061319   \n",
       "White                              -0.024489    -0.015516  0.017314  0.193558   \n",
       "Not_Diabetic                       -0.032353    -0.209640  0.003636 -0.204576   \n",
       "Borderline_Diabetic                 0.011056     0.031843 -0.004295  0.048657   \n",
       "Diabetic_during_pregnancy           0.018742    -0.007040 -0.085477 -0.033325   \n",
       "\n",
       "                                ...  SkinCancer  \\\n",
       "HeartDisease                    ...    0.093317   \n",
       "BMI                             ...   -0.033644   \n",
       "Smoking                         ...    0.033977   \n",
       "AlcoholDrinking                 ...   -0.005702   \n",
       "Stroke                          ...    0.048116   \n",
       "PhysicalHealth                  ...    0.041700   \n",
       "MentalHealth                    ...   -0.033412   \n",
       "DiffWalking                     ...    0.064840   \n",
       "Male                            ...    0.013434   \n",
       "Age                             ...    0.262208   \n",
       "PhysicalActivity                ...   -0.001328   \n",
       "GenHealth                       ...   -0.050641   \n",
       "SleepTime                       ...    0.041266   \n",
       "Asthma                          ...   -0.000396   \n",
       "KidneyDisease                   ...    0.061816   \n",
       "SkinCancer                      ...    1.000000   \n",
       "American_Indian/Alaskan_Native  ...   -0.026784   \n",
       "Asian                           ...   -0.047749   \n",
       "Black                           ...   -0.083390   \n",
       "Hispanic                        ...   -0.082360   \n",
       "Other_Race                      ...   -0.031905   \n",
       "White                           ...    0.144862   \n",
       "Not_Diabetic                    ...   -0.034473   \n",
       "Borderline_Diabetic             ...    0.006025   \n",
       "Diabetic_during_pregnancy       ...   -0.010092   \n",
       "\n",
       "                                American_Indian/Alaskan_Native     Asian  \\\n",
       "HeartDisease                                          0.008547 -0.030262   \n",
       "BMI                                                   0.026347 -0.078643   \n",
       "Smoking                                               0.035667 -0.060308   \n",
       "AlcoholDrinking                                      -0.004243 -0.022275   \n",
       "Stroke                                                0.014357 -0.016060   \n",
       "PhysicalHealth                                        0.022955 -0.035229   \n",
       "MentalHealth                                          0.018394 -0.023113   \n",
       "DiffWalking                                           0.025205 -0.038830   \n",
       "Male                                                 -0.003434  0.013716   \n",
       "Age                                                  -0.024922 -0.084104   \n",
       "PhysicalActivity                                     -0.017736  0.012106   \n",
       "GenHealth                                            -0.037600  0.032701   \n",
       "SleepTime                                            -0.003615 -0.019985   \n",
       "Asthma                                                0.013757 -0.017007   \n",
       "KidneyDisease                                         0.007401 -0.016957   \n",
       "SkinCancer                                           -0.026784 -0.047749   \n",
       "American_Indian/Alaskan_Native                        1.000000 -0.020687   \n",
       "Asian                                                -0.020687  1.000000   \n",
       "Black                                                -0.035746 -0.044721   \n",
       "Hispanic                                             -0.039400 -0.049293   \n",
       "Other_Race                                           -0.024188 -0.030261   \n",
       "White                                                -0.233164 -0.291707   \n",
       "Not_Diabetic                                         -0.028442  0.002578   \n",
       "Borderline_Diabetic                                   0.008356  0.023243   \n",
       "Diabetic_during_pregnancy                             0.003433  0.007260   \n",
       "\n",
       "                                   Black  Hispanic  Other_Race     White  \\\n",
       "HeartDisease                   -0.010156 -0.036163   -0.003039  0.040121   \n",
       "BMI                             0.080672  0.023750    0.012535 -0.049060   \n",
       "Smoking                        -0.038249 -0.066873    0.016205  0.072367   \n",
       "AlcoholDrinking                -0.025980 -0.015554    0.005455  0.033342   \n",
       "Stroke                          0.024819 -0.025823    0.005743  0.001154   \n",
       "PhysicalHealth                  0.011371 -0.005571    0.016102 -0.003968   \n",
       "MentalHealth                    0.010944  0.011167    0.031385 -0.024489   \n",
       "DiffWalking                     0.039615 -0.008214    0.008483 -0.015516   \n",
       "Male                           -0.037280 -0.003607    0.008762  0.017314   \n",
       "Age                            -0.034563 -0.162269   -0.061319  0.193558   \n",
       "PhysicalActivity               -0.043701 -0.056564    0.001808  0.064172   \n",
       "GenHealth                      -0.062215 -0.028721   -0.015241  0.062656   \n",
       "SleepTime                      -0.020192 -0.013242   -0.031007  0.042905   \n",
       "Asthma                          0.021297  0.003885    0.028037 -0.025421   \n",
       "KidneyDisease                   0.010300 -0.010960   -0.002057  0.005933   \n",
       "SkinCancer                     -0.083390 -0.082360   -0.031905  0.144862   \n",
       "American_Indian/Alaskan_Native -0.035746 -0.039400   -0.024188 -0.233164   \n",
       "Asian                          -0.044721 -0.049293   -0.030261 -0.291707   \n",
       "Black                           1.000000 -0.085173   -0.052288 -0.504040   \n",
       "Hispanic                       -0.085173  1.000000   -0.057633 -0.555571   \n",
       "Other_Race                     -0.052288 -0.057633    1.000000 -0.341064   \n",
       "White                          -0.504040 -0.555571   -0.341064  1.000000   \n",
       "Not_Diabetic                   -0.055268 -0.012362   -0.013281  0.055169   \n",
       "Borderline_Diabetic             0.011827  0.013951    0.018433 -0.035494   \n",
       "Diabetic_during_pregnancy      -0.000892  0.012703    0.009767 -0.015785   \n",
       "\n",
       "                                Not_Diabetic  Borderline_Diabetic  \\\n",
       "HeartDisease                       -0.170977             0.016182   \n",
       "BMI                                -0.208232             0.049231   \n",
       "Smoking                            -0.055127             0.007143   \n",
       "AlcoholDrinking                     0.057644            -0.008165   \n",
       "Stroke                             -0.102787             0.011172   \n",
       "PhysicalHealth                     -0.153469             0.021437   \n",
       "MentalHealth                       -0.032353             0.011056   \n",
       "DiffWalking                        -0.209640             0.031843   \n",
       "Male                                0.003636            -0.004295   \n",
       "Age                                -0.204576             0.048657   \n",
       "PhysicalActivity                    0.135451            -0.017253   \n",
       "GenHealth                           0.273381            -0.047783   \n",
       "SleepTime                          -0.000494            -0.006957   \n",
       "Asthma                             -0.050782             0.016750   \n",
       "KidneyDisease                      -0.142371             0.004982   \n",
       "SkinCancer                         -0.034473             0.006025   \n",
       "American_Indian/Alaskan_Native     -0.028442             0.008356   \n",
       "Asian                               0.002578             0.023243   \n",
       "Black                              -0.055268             0.011827   \n",
       "Hispanic                           -0.012362             0.013951   \n",
       "Other_Race                         -0.013281             0.018433   \n",
       "White                               0.055169            -0.035494   \n",
       "Not_Diabetic                        1.000000            -0.341324   \n",
       "Borderline_Diabetic                -0.341324             1.000000   \n",
       "Diabetic_during_pregnancy          -0.208279            -0.013219   \n",
       "\n",
       "                                Diabetic_during_pregnancy  \n",
       "HeartDisease                                    -0.013930  \n",
       "BMI                                              0.008198  \n",
       "Smoking                                         -0.005385  \n",
       "AlcoholDrinking                                 -0.004077  \n",
       "Stroke                                          -0.004526  \n",
       "PhysicalHealth                                  -0.000773  \n",
       "MentalHealth                                     0.018742  \n",
       "DiffWalking                                     -0.007040  \n",
       "Male                                            -0.085477  \n",
       "Age                                             -0.033325  \n",
       "PhysicalActivity                                 0.001501  \n",
       "GenHealth                                       -0.001201  \n",
       "SleepTime                                       -0.011668  \n",
       "Asthma                                           0.013282  \n",
       "KidneyDisease                                   -0.004706  \n",
       "SkinCancer                                      -0.010092  \n",
       "American_Indian/Alaskan_Native                   0.003433  \n",
       "Asian                                            0.007260  \n",
       "Black                                           -0.000892  \n",
       "Hispanic                                         0.012703  \n",
       "Other_Race                                       0.009767  \n",
       "White                                           -0.015785  \n",
       "Not_Diabetic                                    -0.208279  \n",
       "Borderline_Diabetic                             -0.013219  \n",
       "Diabetic_during_pregnancy                        1.000000  \n",
       "\n",
       "[25 rows x 25 columns]"
      ]
     },
     "execution_count": 9,
     "metadata": {},
     "output_type": "execute_result"
    }
   ],
   "source": [
    "# Look at the correlation of the data\n",
    "df.corr()"
   ]
  },
  {
   "cell_type": "markdown",
   "metadata": {},
   "source": [
    "Looking at the correlation of each variable with Heart Disease, seems like there isn't a specific variable that highly correlat with heart disease.\n",
    "\n",
    "Below, we decided to visualize the correlation of smoking with heart disease and the correlation of age vs heart disease. These two are among the common features that causes heart diseases."
   ]
  },
  {
   "cell_type": "code",
   "execution_count": null,
   "metadata": {},
   "outputs": [
    {
     "data": {
      "text/plain": [
       "Text(0.5, 1.0, 'Percentage of Heart Disease Patients that Smoke vs Does not Smoke')"
      ]
     },
     "execution_count": 10,
     "metadata": {},
     "output_type": "execute_result"
    },
    {
     "data": {
      "image/png": "[encoded data removed]",
      "text/plain": [
       "<Figure size 432x288 with 1 Axes>"
      ]
     },
     "metadata": {
      "needs_background": "light"
     },
     "output_type": "display_data"
    }
   ],
   "source": [
    "fig, ax = plt.subplots(figsize = (6,4))\n",
    "\n",
    "heart_disease_smoking_cnt = len(df[(df['HeartDisease']==1) & (df['Smoking']==1)]['Smoking'])\n",
    "smoking_cnt = len(df[df['Smoking']==1]['Smoking'])\n",
    "heart_disease_no_smoking_cnt = len(df[(df['HeartDisease']==1) & (df['Smoking']==0)]['Smoking'])\n",
    "non_smoking_cnt = len(df[df['Smoking']==0]['Smoking'])\n",
    "\n",
    "smoking_heart_diseases = heart_disease_smoking_cnt/smoking_cnt\n",
    "not_smoking_heart_diseases = heart_disease_no_smoking_cnt/non_smoking_cnt\n",
    "\n",
    "ax.bar([\"Smoking\", \"Non-smoking\"], [smoking_heart_diseases, not_smoking_heart_diseases], color=['r','b'])\n",
    "ax.set_xlabel(\"patient smoking status\")\n",
    "ax.set_ylabel(\"Proportion of Heart disease\")\n",
    "plt.title(\"Percentage of Heart Disease Patients that Smoke vs Does not Smoke\")"
   ]
  },
  {
   "cell_type": "code",
   "execution_count": null,
   "metadata": {},
   "outputs": [
    {
     "data": {
      "image/png": "[encoded data removed]",
      "text/plain": [
       "<Figure size 432x288 with 1 Axes>"
      ]
     },
     "metadata": {
      "needs_background": "light"
     },
     "output_type": "display_data"
    }
   ],
   "source": [
    "# visualize the proportion of heart disease vs age\n",
    "x_label = ['18', '25', '30', '35', '40', '45', '50', '55', '60', '65', '70', '75', '80']\n",
    "\n",
    "count_by_age_df = df[\"Age\"].value_counts()\n",
    "count_by_age_arr = [count_by_age_df[int(i)] for i in x_label]\n",
    "\n",
    "count_by_hd_age_df = df[df[\"HeartDisease\"]==1][\"Age\"].value_counts()\n",
    "count_by_hd_age_arr = [count_by_hd_age_df[int(i)] for i in x_label]\n",
    "\n",
    "proportion = [count_by_hd_age_arr[i]/count_by_age_arr[i] for i in range(len(x_label))]\n",
    "\n",
    "plt.figure(figsize=(6, 4))\n",
    "plt.bar(x_label, proportion)\n",
    "plt.xlabel(\"Age Groups\")\n",
    "plt.ylabel(\"% of Heart Disease Instances\")\n",
    "plt.title(\"Proportion of Heart Disease patients by Age\")\n",
    "plt.show()"
   ]
  },
  {
   "cell_type": "markdown",
   "metadata": {},
   "source": [
    "# Proposed Solution\n",
    "\n",
    "We will be developing a logistic regression, K-NN, Neuro Network, and Random Forest model, given parameters, such as smoking, alcohol drinking, and etc., to predict whether a patient is likely to have heart diseases or not. The goal of having both models is to find the best model that can make heart disease predictions. With logistic regression, we can also make inference on which variable influences the decision.\n",
    "\n",
    "By discovering similar characteristics for patients who have heart disease, along with a substantial number of observations, we hope to apply some of these characteristics as a more general prediction for patients who could have heart disease in the future as a preventative measure."
   ]
  },
  {
   "cell_type": "markdown",
   "metadata": {},
   "source": [
    "# Evaluation Metrics\n",
    "\n",
    "10% out of 320,000 observations in the total dataset will be used toward the test set. Note the proportion may be changed depending on how we modify our approach (we may need to reduce the number of patients with no heart disease to balance out the heart disease variable proportion).\n",
    "\n",
    "The F1 score best fits our research question because it measures how correctly our data is classified without putting a heavier weight on True Positives or False Negatives since it is a harmonic mean between precision and recall. Additionally, we chose not to use the accuracy metric because our data is pretty unbalanced, with a very low proportion of patients with heart disease which can lead to a biased or misleading interpretation of results when using the accuracy metric. Therefore, F1 provides a more holistic interpretation of results, as it takes into account both precision and recall, while not be as affected by our unbalanced data like accuracy would."
   ]
  },
  {
   "cell_type": "markdown",
   "metadata": {},
   "source": [
    "# Results"
   ]
  },
  {
   "cell_type": "code",
   "execution_count": null,
   "metadata": {},
   "outputs": [],
   "source": [
    "# Additional Imports\n",
    "from sklearn.metrics import classification_report\n",
    "from sklearn.metrics import plot_confusion_matrix\n",
    "from sklearn import metrics"
   ]
  },
  {
   "cell_type": "markdown",
   "metadata": {},
   "source": [
    "### Data Split\n",
    "\n",
    "Split the data into train/test, we will use stratified shuffle split as people who have heart disease heavily outweights people who does not.\n",
    "\n",
    "Note (consistency):\n",
    "random_state=1"
   ]
  },
  {
   "cell_type": "code",
   "execution_count": null,
   "metadata": {},
   "outputs": [
    {
     "data": {
      "text/plain": [
       "((287815, 24), (31980, 24), (287815,), (31980,))"
      ]
     },
     "execution_count": 13,
     "metadata": {},
     "output_type": "execute_result"
    }
   ],
   "source": [
    "from sklearn.model_selection import train_test_split\n",
    "\n",
    "# Note Column Names Are Not Included\n",
    "data = df.to_numpy()\n",
    "X = data[:,1:]\n",
    "y = data[:,0]\n",
    "\n",
    "# Split data (with stratified shuffle split)\n",
    "X_train, X_test, y_train, y_test = train_test_split(X, y, test_size=0.10, random_state=1, stratify=y)\n",
    "\n",
    "# Output shape of each dataset\n",
    "X_train.shape, X_test.shape, y_train.shape, y_test.shape"
   ]
  },
  {
   "cell_type": "markdown",
   "metadata": {},
   "source": [
    "### Baseline Preformance Estimation\n",
    "#### Logistic Regression\n",
    "\n",
    "Here, we will preform a simple logistic regression to provide a baseline of what the most general case of logistic regression can provide."
   ]
  },
  {
   "cell_type": "code",
   "execution_count": null,
   "metadata": {},
   "outputs": [],
   "source": [
    "from sklearn.linear_model import LogisticRegression\n",
    "\n",
    "logreg = LogisticRegression(max_iter=5000, random_state=1)\n",
    "clf = logreg.fit(X_train, y_train)"
   ]
  },
  {
   "cell_type": "code",
   "execution_count": null,
   "metadata": {},
   "outputs": [
    {
     "name": "stdout",
     "output_type": "stream",
     "text": [
      "              precision    recall  f1-score   support\n",
      "\n",
      "         0.0       0.92      0.99      0.96     29243\n",
      "         1.0       0.56      0.11      0.19      2737\n",
      "\n",
      "    accuracy                           0.92     31980\n",
      "   macro avg       0.74      0.55      0.57     31980\n",
      "weighted avg       0.89      0.92      0.89     31980\n",
      "\n"
     ]
    }
   ],
   "source": [
    "y_test_pred = clf.predict(X_test)\n",
    "print(classification_report(y_test, y_test_pred))"
   ]
  },
  {
   "cell_type": "markdown",
   "metadata": {},
   "source": [
    "As shown above, the test-accuracy seems very good with a score of 0.92. However, if we look closely, the recall and f1-score is terrible being 0.11 and 0.19."
   ]
  },
  {
   "cell_type": "markdown",
   "metadata": {},
   "source": [
    "Our baseline performance preforms extremely poorly. As shown by the confusion matrix above, logistic regression works decently well when looking at accuracy. However, the classification of whether a patient may have heart disease is more important when the patient actually has heart disease. When looking at its precision and recall, we can see that logistic regression does a poor job of classifying those with heart disease properly. Logistic regression only classified 56% of patients as having heart disease correctly out of all patients that it had classified as having heart disease (precision). Also, only a measly 11% were properly classified as having heart disease out of all patients who did (recall). With our focus on classification of patients having heart disease, recall is a very important metric as those with heart disease should be properly identified as having heart disease. In addition, the f1 score obtained is 0.19, this further shows our baseline algorithm's inability to predict correctly."
   ]
  },
  {
   "cell_type": "markdown",
   "metadata": {},
   "source": [
    "#### Logistic Regression Continued: Attempt to fix the issue\n",
    "\n",
    "To fix the issue of unbalanced dataset in terms of labeling, there are few solutions on our mind. Below, we will be trying one of them by introducing class weight to logistic regression:"
   ]
  },
  {
   "cell_type": "code",
   "execution_count": null,
   "metadata": {},
   "outputs": [
    {
     "name": "stdout",
     "output_type": "stream",
     "text": [
      "              precision    recall  f1-score   support\n",
      "\n",
      "         0.0       0.97      0.75      0.85     29243\n",
      "         1.0       0.23      0.78      0.35      2737\n",
      "\n",
      "    accuracy                           0.75     31980\n",
      "   macro avg       0.60      0.76      0.60     31980\n",
      "weighted avg       0.91      0.75      0.80     31980\n",
      "\n"
     ]
    }
   ],
   "source": [
    "from sklearn.linear_model import LogisticRegression\n",
    "\n",
    "logreg = LogisticRegression(max_iter=5000, random_state=1, class_weight=\"balanced\")\n",
    "clf = logreg.fit(X_train, y_train)\n",
    "\n",
    "y_test_pred = clf.predict(X_test)\n",
    "\n",
    "print(classification_report(y_test, y_test_pred))"
   ]
  },
  {
   "cell_type": "markdown",
   "metadata": {},
   "source": [
    "Above, we introduced class_weight with the \"balanced\" setting that sklearn have. Without dividng deep into the dataset (for now), this setting give us a much better recall value, while prevision worsten. However, we view this as an significant improvement as the more important recall score went from 0.11 (without class_weight) to 0.78 (with class_weight). F1 score also have an improvement through the combination of the significant increment of recall and decrease of precision. F1 score went from 0.19 (without class_weight) to 0.35 (with class_weight).\n",
    "\n",
    "Note: there are still a significant room for improvement. There are more things we can try such as remove some of the healthy patient data to achieve balance, try out different algorithem, and manually adjust class weight."
   ]
  },
  {
   "cell_type": "markdown",
   "metadata": {},
   "source": [
    "#### KNN\n",
    "\n",
    "We also tried using KNN and see if the result would improve, however both f1 and recall scores preformed poorly."
   ]
  },
  {
   "cell_type": "code",
   "execution_count": null,
   "metadata": {},
   "outputs": [],
   "source": [
    "from sklearn.neighbors import KNeighborsClassifier\n",
    "\n",
    "num_neigh = [*range(1, 10, 2)]\n",
    "recall_scores = []\n",
    "f1_scores = []\n",
    "\n",
    "for num in num_neigh:\n",
    "    neigh = KNeighborsClassifier(n_neighbors = num)\n",
    "    neigh.fit(X_train, y_train)\n",
    "    y_pred = neigh.predict(X_test)\n",
    "    recall_score = metrics.recall_score(y_test, y_pred)\n",
    "    f1_score = metrics.f1_score(y_test, y_pred)\n",
    "    recall_scores.append(recall_score)\n",
    "    f1_scores.append(f1_score)\n",
    "# want to minimize false negative and maximize true positive"
   ]
  },
  {
   "cell_type": "code",
   "execution_count": null,
   "metadata": {
    "scrolled": true
   },
   "outputs": [
    {
     "data": {
      "text/plain": [
       "<matplotlib.legend.Legend at 0x149377c3ac0>"
      ]
     },
     "execution_count": 18,
     "metadata": {},
     "output_type": "execute_result"
    },
    {
     "data": {
      "image/png": "[encoded data removed]",
      "text/plain": [
       "<Figure size 432x288 with 1 Axes>"
      ]
     },
     "metadata": {
      "needs_background": "light"
     },
     "output_type": "display_data"
    }
   ],
   "source": [
    "plt.plot(num_neigh, recall_scores, label = 'Recall score')\n",
    "plt.plot(num_neigh, f1_scores, label = 'f1 score')\n",
    "plt.ylabel('Scores')\n",
    "plt.xlabel('Number of Neighbors')\n",
    "plt.legend()"
   ]
  },
  {
   "cell_type": "markdown",
   "metadata": {},
   "source": [
    "#### Neuro Network\n",
    "As shown below, neuro network model completely fails to identify patients with heart disease. We obtained an f1 score of 0.00."
   ]
  },
  {
   "cell_type": "code",
   "execution_count": null,
   "metadata": {},
   "outputs": [
    {
     "name": "stdout",
     "output_type": "stream",
     "text": [
      "              precision    recall  f1-score   support\n",
      "\n",
      "         0.0       0.91      1.00      0.96     29243\n",
      "         1.0       0.00      0.00      0.00      2737\n",
      "\n",
      "    accuracy                           0.91     31980\n",
      "   macro avg       0.46      0.50      0.48     31980\n",
      "weighted avg       0.84      0.91      0.87     31980\n",
      "\n"
     ]
    },
    {
     "name": "stderr",
     "output_type": "stream",
     "text": [
      "C:\\Users\\jason\\anaconda3\\lib\\site-packages\\sklearn\\metrics\\_classification.py:1327: UndefinedMetricWarning: Precision and F-score are ill-defined and being set to 0.0 in labels with no predicted samples. Use `zero_division` parameter to control this behavior.\n",
      "  _warn_prf(average, modifier, msg_start, len(result))\n",
      "C:\\Users\\jason\\anaconda3\\lib\\site-packages\\sklearn\\metrics\\_classification.py:1327: UndefinedMetricWarning: Precision and F-score are ill-defined and being set to 0.0 in labels with no predicted samples. Use `zero_division` parameter to control this behavior.\n",
      "  _warn_prf(average, modifier, msg_start, len(result))\n",
      "C:\\Users\\jason\\anaconda3\\lib\\site-packages\\sklearn\\metrics\\_classification.py:1327: UndefinedMetricWarning: Precision and F-score are ill-defined and being set to 0.0 in labels with no predicted samples. Use `zero_division` parameter to control this behavior.\n",
      "  _warn_prf(average, modifier, msg_start, len(result))\n"
     ]
    }
   ],
   "source": [
    "from sklearn.neural_network import MLPClassifier\n",
    "nn = MLPClassifier(solver='sgd', alpha=1e-5,\n",
    "                    hidden_layer_sizes=(5, 3), random_state=1, max_iter=1000)\n",
    "nn.fit(X_train, y_train)\n",
    "y_test_pred = nn.predict(X_test)\n",
    "print(classification_report(y_test, y_test_pred))"
   ]
  },
  {
   "cell_type": "markdown",
   "metadata": {},
   "source": [
    "#### Random Forest\n",
    "This algorithem also did not preform well (even when we tried to balance the class_weight!)."
   ]
  },
  {
   "cell_type": "code",
   "execution_count": null,
   "metadata": {},
   "outputs": [
    {
     "name": "stdout",
     "output_type": "stream",
     "text": [
      "              precision    recall  f1-score   support\n",
      "\n",
      "         0.0       0.92      0.98      0.95     29243\n",
      "         1.0       0.31      0.12      0.17      2737\n",
      "\n",
      "    accuracy                           0.90     31980\n",
      "   macro avg       0.62      0.55      0.56     31980\n",
      "weighted avg       0.87      0.90      0.88     31980\n",
      "\n"
     ]
    }
   ],
   "source": [
    "from sklearn.ensemble import RandomForestClassifier\n",
    "\n",
    "rf = RandomForestClassifier(criterion='gini',n_estimators=25, class_weight=\"balanced\")\n",
    "\n",
    "rf.fit(X_train, y_train)\n",
    "y_test_pred = rf.predict(X_test)\n",
    "print(classification_report(y_test, y_test_pred))"
   ]
  },
  {
   "cell_type": "markdown",
   "metadata": {},
   "source": [
    "Seems like the problem of unbalanced data occurs throughout all the algorithems presented. We would need to fix the unbalanced data issue."
   ]
  },
  {
   "cell_type": "markdown",
   "metadata": {},
   "source": [
    "## Data Rehandling\n",
    "\n",
    "Seeing the poor results from the algorithms above, we decided to balance out the data by preofrming Oversampling and Standard Scaler."
   ]
  },
  {
   "cell_type": "code",
   "execution_count": null,
   "metadata": {},
   "outputs": [],
   "source": [
    "# Additional imports\n",
    "from sklearn.preprocessing import LabelEncoder\n",
    "from imblearn.over_sampling  import RandomOverSampler\n",
    "from sklearn.preprocessing import StandardScaler"
   ]
  },
  {
   "cell_type": "code",
   "execution_count": null,
   "metadata": {},
   "outputs": [],
   "source": [
    "# Obtain X and Y dataframe\n",
    "X = df.drop('HeartDisease',axis=1)\n",
    "y = df['HeartDisease']"
   ]
  },
  {
   "cell_type": "markdown",
   "metadata": {},
   "source": [
    "We want to split the data first, then preform oversampling"
   ]
  },
  {
   "cell_type": "code",
   "execution_count": null,
   "metadata": {},
   "outputs": [],
   "source": [
    "# Split data\n",
    "X_train, X_test, y_train, y_test = train_test_split(X, y,test_size=0.10,shuffle=True,random_state=1, stratify=y)"
   ]
  },
  {
   "cell_type": "code",
   "execution_count": null,
   "metadata": {},
   "outputs": [
    {
     "data": {
      "text/plain": [
       "0    263179\n",
       "1     24636\n",
       "Name: HeartDisease, dtype: int64"
      ]
     },
     "execution_count": 24,
     "metadata": {},
     "output_type": "execute_result"
    }
   ],
   "source": [
    "y_train.value_counts()"
   ]
  },
  {
   "cell_type": "markdown",
   "metadata": {},
   "source": [
    "### Preform Oversampling\n",
    "\n",
    "As seen above, our label's positive (1) case is very under-represented. We will attempt to balance the data by random oversampling. By random-oversampling, we balanced the variable."
   ]
  },
  {
   "cell_type": "code",
   "execution_count": null,
   "metadata": {},
   "outputs": [
    {
     "data": {
      "text/plain": [
       "0    263179\n",
       "1    263179\n",
       "Name: HeartDisease, dtype: int64"
      ]
     },
     "execution_count": 25,
     "metadata": {},
     "output_type": "execute_result"
    }
   ],
   "source": [
    "sampler = RandomOverSampler(random_state=1)\n",
    "X_train, y_train = sampler.fit_resample(X_train,y_train)\n",
    "\n",
    "y_train.value_counts()"
   ]
  },
  {
   "cell_type": "markdown",
   "metadata": {},
   "source": [
    "### Preform Data Standardization\n",
    "\n",
    "Looking at the histogram at EDA, we can see that many features are quite unbalanced.For example, there are a lot more people who don't have kidney disease than people who does. By standardizing the features weights will now be standardized."
   ]
  },
  {
   "cell_type": "code",
   "execution_count": null,
   "metadata": {},
   "outputs": [],
   "source": [
    "standardizer = StandardScaler()\n",
    "X_train = standardizer.fit_transform(X_train)\n",
    "\n",
    "# transform the test set as well\n",
    "X_test = standardizer.transform(X_test)"
   ]
  },
  {
   "cell_type": "markdown",
   "metadata": {},
   "source": [
    "### Algorithm Preformances\n",
    "#### Logistic Regression"
   ]
  },
  {
   "cell_type": "code",
   "execution_count": null,
   "metadata": {},
   "outputs": [
    {
     "name": "stdout",
     "output_type": "stream",
     "text": [
      "              precision    recall  f1-score   support\n",
      "\n",
      "           0       0.97      0.75      0.85     29243\n",
      "           1       0.23      0.78      0.35      2737\n",
      "\n",
      "    accuracy                           0.75     31980\n",
      "   macro avg       0.60      0.76      0.60     31980\n",
      "weighted avg       0.91      0.75      0.80     31980\n",
      "\n"
     ]
    }
   ],
   "source": [
    "# Logistic Regression 2.0, with updated data\n",
    "from sklearn.linear_model import LogisticRegression\n",
    "\n",
    "logreg = LogisticRegression(max_iter=5000, random_state=1)\n",
    "clf = logreg.fit(X_train, y_train)\n",
    "\n",
    "y_test_pred = clf.predict(X_test)\n",
    "print(classification_report(y_test, y_test_pred))"
   ]
  },
  {
   "cell_type": "markdown",
   "metadata": {},
   "source": [
    "Logistic Regression have the same result as above when weight_balance is set to 'balanced', this make sense as data standardization is preforming the same thing (adjusting weights).\n",
    "\n",
    "#### K-NN"
   ]
  },
  {
   "cell_type": "code",
   "execution_count": null,
   "metadata": {},
   "outputs": [],
   "source": [
    "# KNN 2.0, with updated data\n",
    "from sklearn.neighbors import KNeighborsClassifier\n",
    "\n",
    "num_neigh = [*range(1, 20, 2)]\n",
    "recall_scores = []\n",
    "f1_scores = []\n",
    "\n",
    "for num in num_neigh:\n",
    "    neigh = KNeighborsClassifier(n_neighbors = num)\n",
    "    neigh.fit(X_train, y_train)\n",
    "    y_pred = neigh.predict(X_test)\n",
    "    recall_score = metrics.recall_score(y_test, y_pred)\n",
    "    f1_score = metrics.f1_score(y_test, y_pred)\n",
    "    recall_scores.append(recall_score)\n",
    "    f1_scores.append(f1_score)\n",
    "# want to minimize false negative and maximize true positive"
   ]
  },
  {
   "cell_type": "code",
   "execution_count": null,
   "metadata": {},
   "outputs": [
    {
     "name": "stdout",
     "output_type": "stream",
     "text": [
      "max recall score: 0.7164778955060285\n"
     ]
    },
    {
     "data": {
      "image/png": "[encoded data removed]",
      "text/plain": [
       "<Figure size 432x288 with 1 Axes>"
      ]
     },
     "metadata": {
      "needs_background": "light"
     },
     "output_type": "display_data"
    }
   ],
   "source": [
    "plt.plot(num_neigh, recall_scores, label = 'Recall score')\n",
    "plt.plot(num_neigh, f1_scores, label = 'f1 score')\n",
    "plt.ylabel('Scores')\n",
    "plt.xlabel('Number of Neighbors')\n",
    "plt.legend()\n",
    "print(f'max recall score: {recall_scores[-1]}')"
   ]
  },
  {
   "cell_type": "markdown",
   "metadata": {},
   "source": [
    "There is an improvement to K-NN now, as # of neightbor increases, the recall score significantly increases."
   ]
  },
  {
   "cell_type": "markdown",
   "metadata": {},
   "source": [
    "#### Neuro Network\n",
    "\n",
    "We decided to try another algorithem that we were unable to use previously: Neuro Network. Previously, Neuro Network completely failed to learn the data and we received an f1-score of 0.00"
   ]
  },
  {
   "cell_type": "code",
   "execution_count": null,
   "metadata": {},
   "outputs": [
    {
     "name": "stdout",
     "output_type": "stream",
     "text": [
      "              precision    recall  f1-score   support\n",
      "\n",
      "           0       0.98      0.73      0.83     29243\n",
      "           1       0.22      0.81      0.34      2737\n",
      "\n",
      "    accuracy                           0.73     31980\n",
      "   macro avg       0.60      0.77      0.59     31980\n",
      "weighted avg       0.91      0.73      0.79     31980\n",
      "\n"
     ]
    }
   ],
   "source": [
    "from sklearn.neural_network import MLPClassifier\n",
    "nn = MLPClassifier(solver='sgd', alpha=1e-5,\n",
    "                    hidden_layer_sizes=(5, 3), random_state=1, max_iter=1000)\n",
    "nn.fit(X_train, y_train)\n",
    "y_test_pred = nn.predict(X_test)\n",
    "print(classification_report(y_test, y_test_pred))"
   ]
  },
  {
   "cell_type": "markdown",
   "metadata": {},
   "source": [
    "Neuro Network preformed the best out of all the algorithems when it comes to recall score.\n",
    "\n",
    "#### Random Forest\n",
    "We decided to introduce another essemble learning algorithem to see if we can obtain a better result."
   ]
  },
  {
   "cell_type": "code",
   "execution_count": null,
   "metadata": {},
   "outputs": [
    {
     "name": "stdout",
     "output_type": "stream",
     "text": [
      "              precision    recall  f1-score   support\n",
      "\n",
      "           0       0.93      0.95      0.94     29243\n",
      "           1       0.29      0.23      0.25      2737\n",
      "\n",
      "    accuracy                           0.89     31980\n",
      "   macro avg       0.61      0.59      0.60     31980\n",
      "weighted avg       0.87      0.89      0.88     31980\n",
      "\n"
     ]
    }
   ],
   "source": [
    "from sklearn.ensemble import RandomForestClassifier\n",
    "\n",
    "rf = RandomForestClassifier(criterion='gini',n_estimators=25)\n",
    "\n",
    "rf.fit(X_train, y_train)\n",
    "y_test_pred = rf.predict(X_test)\n",
    "print(classification_report(y_test, y_test_pred))"
   ]
  },
  {
   "cell_type": "markdown",
   "metadata": {},
   "source": [
    "Random Forest did have an improvement from before but actually did not preform as well as we imagined even with a much more y label and class weight balanced dataset."
   ]
  },
  {
   "cell_type": "markdown",
   "metadata": {},
   "source": [
    "# NOTES FOR RESULTS THAT SHOULD BE REMOVED LATER\n",
    "\n",
    "You may have done tons of work on this. Not all of it belongs here. \n",
    "\n",
    "Reports should have a __narrative__. Once you've looked through all your results over the quarter, decide on one main point and 2-4 secondary points you want us to understand. Include the detailed code and analysis results of those points only; you should spend more time/code/plots on your main point than the others.\n",
    "\n",
    "If you went down any blind alleys that you later decided to not pursue, please don't abuse the TAs time by throwing in 81 lines of code and 4 plots related to something you actually abandoned.  Consider deleting things that are not important to your narrative.  If its slightly relevant to the narrative or you just want us to know you tried something, you could keep it in by summarizing the result in this report in a sentence or two, moving the actual analysis to another file in your repo, and providing us a link to that file.\n",
    "\n",
    "### Subsection 1\n",
    "\n",
    "You will likely have different subsections as you go through your report. For instance you might start with an analysis of the dataset/problem and from there you might be able to draw out the kinds of algorithms that are / aren't appropriate to tackle the solution.  Or something else completely if this isn't the way your project works.\n",
    "\n",
    "### Subsection 2\n",
    "\n",
    "Another likely section is if you are doing any feature selection through cross-validation or hand-design/validation of features/transformations of the data\n",
    "\n",
    "### Subsection 3\n",
    "\n",
    "Probably you need to describe the base model and demonstrate its performance.  Maybe you include a learning curve to show whether you have enough data to do train/validate/test split or have to go to k-folds or LOOCV or ???\n",
    "\n",
    "### Subsection 4\n",
    "\n",
    "Perhaps some exploration of the model selection (hyper-parameters) or algorithm selection task. Validation curves, plots showing the variability of perfromance across folds of the cross-validation, etc. If you're doing one, the outcome of the null hypothesis test or parsimony principle check to show how you are selecting the best model.\n",
    "\n",
    "### Subsection 5 \n",
    "\n",
    "Maybe you do model selection again, but using a different kind of metric than before?\n",
    "\n",
    "\n"
   ]
  },
  {
   "cell_type": "markdown",
   "metadata": {},
   "source": [
    "# Discussion\n",
    "\n",
    "### Interpreting the result\n",
    "\n",
    "OK, you've given us quite a bit of tech informaiton above, now its time to tell us what to pay attention to in all that.  Think clearly about your results, decide on one main point and 2-4 secondary points you want us to understand. Highlight HOW your results support those points.  You probably want 2-5 sentences per point.\n",
    "\n",
    "* Logistic Regression performs best, but the model we would move forward with from this point would likely be Neuro Networks. \n",
    "\n",
    "    With our given results, Logistic Regression outperformed the other algorithms(K-Nearest Neighbors, Neuro           Networks, and Random Forest) overall when comparing both the overall recall and f1-score. However, the             performance of our model is to be based on its performance primarily on how well it can identify those who do     have hard disease as having hard disease. As such, while F1-score does play a factor in how we determine the       model we will continue to use, both the difference between the f1-score of Logistic Regression and Neuro           Networks is minimal enough to overlook in order to gain better performance in the recall for Neuro Networks.\n",
    "\n",
    "\n",
    "    * K-Nearest Neighbors and Random Forest both underperform in comparison to Logistic Regression and Neuro            Networks.\n",
    "    \n",
    "    Despite our attempts to increase the performance of the Random Forest model, the introduction of more y label     and class weight did not make the performance of the Random Forest good enough to be questioned for further       use.On the other hand, K-Nearest Neighbors did perform closely to Logistic Regression and Neuro networks, but     its performance plateauted at about 72%. Further increase to the k value would only lead to minimal changes or     decrease the performance as the model's decision boundary will smooth out making the model less and less           complex.\n",
    "    \n",
    "    * Neuro Networks likely worked best due to the nature of the dataset being not linearly separable.\n",
    "    \n",
    "    Neuro Networks works better than the other algorithms on nonlinearly separable data and since its performance \n",
    "    in recall was the best then this was most likely the nature of the data. As shown by the performance of the\n",
    "    K-Nearest Neighbors model, the performance of the model peaked at 72% as the k value increased. However if you\n",
    "    were to continue to increase this value, then the performance of the algorithm would only worsen or remain \n",
    "    relatively the same. As such the K-Nearest Neighbors's decision boundary is only getting smoother which           implies that the classification of the data itself cannot be linearly separable.\n",
    " \n",
    "\n",
    "### Limitations\n",
    "\n",
    "One limitation to our work includes the limited proportions of patients diagnosed with heart disease or myocardial infarction. Having limited data or a small dataset, can lead to biases in our algorithms. We only used about 10% of our dataset for our test set, so our data size is about 32,000 observations. Another limitation we had was although we decided to use the f1-score for our evalutation metric since our data was unbalanced, however, we found that the recall score actually works better for our research question. Recall puts a heavier emphasis on False Negatives, which are very detrimental to our research question, since it would be all the patients who were not diagnosed with heart disease, but actually had a heart disease. We were worried that recall would not be a good choice for our project, because our data was so unbalanced, however, through random oversampling and data standardization, we were able to balance our data so recall would not be too biased. Therefore, recall was better suited as our evaluation metric, rather than the F1 score that is just a harmonic mean between the recall and precision.   \n",
    "\n",
    "### Ethics & Privacy\n",
    "\n",
    "If your project has obvious potential concerns with ethics or data privacy discuss that here.  Almost every ML project put into production can have ethical implications if you use your imagination. Use your imagination.\n",
    "\n",
    "Even if you can't come up with an obvious ethical concern that should be addressed, you should know that a large number of ML projects that go into producation have unintended consequences and ethical problems once in production. How will your team address these issues?\n",
    "\n",
    "Consider a tool to help you address the potential issues such as https://deon.drivendata.org\n",
    "\n",
    "### Conclusion\n",
    "\n",
    "Reiterate your main point and in just a few sentences tell us how your results support it. Mention how this work would fit in the background/context of other work in this field if you can. Suggest directions for future work if you want to."
   ]
  },
  {
   "cell_type": "markdown",
   "metadata": {},
   "source": [
    "# Ethics & Privacy"
   ]
  },
  {
   "cell_type": "markdown",
   "metadata": {},
   "source": [
    "Our datasets will come from public datasets. Since our dataset comes from a survey that was collected by the CDC, the methods of data collection shouldn't be a violation of privacy as long as their name and personal information is not included. Additionally, in terms of data storage, we do not hold any personal information of the participants of the survey and it is a public dataset, so fears of data leakage or data deletion should not pose a problem. Additionally, this survey was taken by over 320,000 adults across all 50 states, so there is a very big sample to help decrease any bias and increase generalizability to adults in the U.S. Since, only about 10% of our data includes positive cases, this could lead to a potential bias towards a certain group or population in our data. To help ensure we don’t encounter any ethics or privacy problems in our project, we can use deon to check our project. "
   ]
  },
  {
   "cell_type": "markdown",
   "metadata": {},
   "source": [
    "## Conclusion"
   ]
  },
  {
   "cell_type": "markdown",
   "metadata": {},
   "source": [
    "Our main goal with this project was to see how training certain models on whether some has heart disease. Through seeing which model performed the best, it would help us understand the factors that underlie heart disease better. With our results it is possible to say that the factors that lead to heart disease may not be as simple as a linear relationship between the factor and risk of heart disease. This could be seen in our best performing model, a neural network, is knwon for being able to classify nonlinear relationships well. For research the medical field, this can serve as a introduction into understanding the factors of heart disease. In the future, people can work to better understand which classifer is the best for these factors, as well as understanding which factor matters the most in determining heart disease. "
   ]
  },
  {
   "cell_type": "markdown",
   "metadata": {},
   "source": [
    "# Team Expectations "
   ]
  },
  {
   "cell_type": "markdown",
   "metadata": {},
   "source": [
    "- Put things here that cement how you will interact/communicate as a team, how \n",
    "- Communicate through Discord\n",
    "- Collaborate on coding through google collab\n",
    "- Collaborate on reports through google doc \n",
    "- Weekly Team Meetings to evaluate progress and go over any issues/roadblocks\n",
    "- Issues/roadblocks will be handled as a group if needed or giving guidance where confusion may have been caused\n",
    "- Meeting scheduled goals/progression according to the timeline\n",
    "- Roadblocks that may affect the timeline will be discussed and the timeline will be adjusted accordingly"
   ]
  },
  {
   "cell_type": "markdown",
   "metadata": {},
   "source": [
    "# Project Timeline Proposal"
   ]
  },
  {
   "cell_type": "markdown",
   "metadata": {},
   "source": [
    "UPDATE THE PROPOSAL TIMELINE ACCORDING TO WHAT HAS ACTUALLY HAPPENED AND HOW IT HAS EFFECTED YOUR FUTURE PLANS\n",
    "\n",
    "| Meeting Date  | Meeting Time| Completed Before Meeting  | Discuss at Meeting |\n",
    "|---|---|---|---|\n",
    "| 5/20  | 5 PM  | Each Member clean or visualize own section (All) |Review/Edit wrangling/EDA; Revise from the proposal peer review, Work on Baseline Performance Evaluation, Submit Checkpoint 1   |\n",
    "| 5/25  | 5 PM  | Finalize wrangling/EDA; Begin programming for project (All) | Discuss/edit project code; Complete project |\n",
    "| 5/29  |  5 PM |  Finish the first major model.  | Discuss results and look for improvement. | \n",
    "| 6/1  |  5 PM |  Finish the second major model | Discuss results and look for improvement | \n",
    "| 6/02  | 5 PM | Complete analysis; Draft results/conclusion/discussion (Carlos)| Discuss/edit full project |\n",
    "| 6/5  | 5 PM  | Complete Draft  | Discuss what to improve on. Gather questions for TA if we have any.   |\n",
    "| 6/08  | 1 PM  | NA | Turn in Final Project  |"
   ]
  },
  {
   "cell_type": "markdown",
   "metadata": {},
   "source": [
    "# Footnotes\n",
    "<a name=\"healthlinenote\"></a>1.[^](#healthline):  Thomas, J. (16 July 2020) Heart Disease: Facts, Statistics, and You. Healthline Media. https://www.healthline.com/health/heart-disease/statistics <br>\n",
    "<a name=\"admonishnote\"></a>2.[^](#admonish): Heart Disease Facts CDC. https://www.cdc.gov/heartdisease/facts.htm <br>\n",
    "<a name=\"sotanote\"></a>3.[^](#sota): Data source: https://www.kaggle.com/datasets/kamilpytlak/personal-key-indicators-of-heart-disease <br>\n",
    "<a name=\"sotanote\"></a>4.[^](#sota): Know Your Risk for Heart Disease. CDC.: https://www.cdc.gov/heartdisease/risk_factors.htm"
   ]
  },
  {
   "cell_type": "code",
   "execution_count": null,
   "metadata": {},
   "outputs": [],
   "source": []
  }
 ],
 "metadata": {
  "interpreter": {
   "hash": "3700c39376f501946acbe1871c61057b16ea95e6ed2722f303847becb1996c6c"
  },
  "kernelspec": {
   "display_name": "Python 3.8.5 ('base')",
   "language": "python",
   "name": "python3"
  },
  "language_info": {
   "codemirror_mode": {
    "name": "ipython",
    "version": 3
   },
   "file_extension": ".py",
   "mimetype": "text/x-python",
   "name": "python",
   "nbconvert_exporter": "python",
   "pygments_lexer": "ipython3",
   "version": "3.8.5"
  }
 },
 "nbformat": 4,
 "nbformat_minor": 2
}
