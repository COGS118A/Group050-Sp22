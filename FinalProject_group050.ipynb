{
 "cells": [
  {
   "cell_type": "markdown",
   "metadata": {},
   "source": [
    "# COGS 118A- Project Checkpoint"
   ]
  },
  {
   "cell_type": "markdown",
   "metadata": {},
   "source": [
    "# Names\n",
    "\n",
    "Hopefully your team is at least this good. Obviously you should replace these with your names.\n",
    "\n",
    "- Zhaoge Ouyang\n",
    "- Bateliel Bassa\n",
    "- Jason Hsu\n",
    "- Kevin Thai\n",
    "- Katelyn Dang"
   ]
  },
  {
   "cell_type": "markdown",
   "metadata": {},
   "source": [
    "# Abstract \n",
    "Heart disease is one of the leading medical issues in the U.S. that has affected “as of 2018, 30.3 million U.S. adults”<a name=\"https://www.healthline.com/health/heart-disease/statistics\"></a>[<sup>[1]</sup>](https://www.healthline.com/health/heart-disease/statistics) as reported by the CDC (Centers for Disease Control and Prevention). Our team would like to find out patterns that may lead to high risk of heart disease and possibly predict if a patient is at a high risk. We will be using 2020 annual CDC survey data of 320k adults related to their health status, provided on Kaggle. The data includes various variables regarding a patient's lifestyle and physical health, such as a person's BMI or whether they have smoked a certain number of cigarettes in their life, measured as a yes/no question. We will be training models to detect “patterns”, such that we can predict a patient’s heart condition and whether or not a patient is more likely to have heart diseases. We will split the dataset to 80% training, 10% validation, and 10% test set. With around 320,000 valid observations, the training set will have about 256,000 observations, while the validation and test set will have 64,000 observations each. The performance will be measured with accuracy."
   ]
  },
  {
   "cell_type": "markdown",
   "metadata": {},
   "source": [
    "# Background\n",
    "\n",
    "Heart disease is one of the leading causes of death around the world. According to CDC, 659,000 people die from heart diseases in the United States. There are many factors that contribute to heart disease, including lifestyle and genetics. Health conditions such as high blood pressure, unhealthy blood cholesterol level, diabetes, and obesity increase the risk of heart dieseases. In addition, behaviors such as a diet high in saturated fat, trans fat, lack of physical exercise, alcohol abuse, tobacco use also increases a patient’s risk of heart diseases. Other than life styles, genetics and race also affect the risk of heart diseases. Genetic factors affect the risk of health conditions that are related to heart diseases, and some races are more likely to to be at risk of heart diseases than others. Lastly, heart diseases tend to happen more often as age goes up<a name=\"admonish\"></a>[<sup>[2]</sup>](#admonishnote)."
   ]
  },
  {
   "cell_type": "markdown",
   "metadata": {},
   "source": [
    "# Problem Statement\n",
    "\n",
    "Currently, there aren’t many tools that are able to predict the likelihood of whether a patient is at risk of heart diseases based on their lifestyle and genetics. Therefore, we want to train a model that can properly make predictions on whether a patient may have heart disease.\n",
    " Whether the patient is at potential risk of heart disease will be measured as a simple 0 or 1 output, 0 for if the patient is less likely to be at risk and 1 for if the patient is at possible risk. By reviewing the prediction outcomes, we will also be able to determine which parameters contribute the most heavily to potential risk of heart diseases. Given appropriate data that matches the variables/parameters our model is trained on, the model should be able to produce a prediction of a patient’s risk for heart disease. "
   ]
  },
  {
   "cell_type": "markdown",
   "metadata": {},
   "source": [
    "# Data\n",
    "\n",
    "We will be using 2020 annual CDC survey data of 320k adults related to their health status, obtained on Kaggle<a name=\"https://www.kaggle.com/datasets/kamilpytlak/personal-key-indicators-of-heart-disease\"></a>[<sup>[3]</sup>](https://www.kaggle.com/datasets/kamilpytlak/personal-key-indicators-of-heart-disease). The dataset includes 18 variables and ~320,000 observations. Variables includes health related status such as had heart disease, smoked 100 cigarettes in their lifetime, having at least 7 (female) /14 (male) drinks a week depending, had a stroke, considered their physical or mental health to be “unwell” over the past 30 days, difficulty walking up stairs, gender, age, and BMI.\n",
    "\n",
    "The dataset includes various kinds of data types.Gender questions were answered as Male/Female, race was measured by the participants ethnicity, General health was measured on a likert scale, age category was answered as a range from 18-24 to 80-over, BMI and sleeping time was measured as a specific number, physical and mental health from a range from 0-30, and all other variables were answered as Yes/No.From the dataset, the data on heart diseases, smoking, age, physical activity, and race are the most important to help answer our research question. Smoking, age, physical activity, and race are suspected links to heart diseases and by studying and analyzing the data between heart diseases and these links, we may be able to find which variables can increase the risk of heart disease. \n",
    "\n",
    "To better handle the data, we will need to transform binary data types and categorical data into one-hot encoding (i.e. The Gender column would be split into Male and Female columns). In addition, there are only about 9% of data that are labeled as having heart disease or myocardial infarction. To combat the unbalanced proportion of data is to undersample our data (reduce the number of data that contains negative cases). Note that if we proceed with undersampling data, we will lose a lot of information. However, since the dataset is quite huge, we should still have a sufficient amount of data to work with. Another possible problem we may encounter is that many features seem to also be unbalanced (i.e. proportion of people who have kidney disease is much lower than people who don’t). Therefore, we may also need to balance weights by giving the smaller class more weights.\n",
    "\n",
    "\n",
    "There are certain features of this dataset that may be particularly useful in attempting to predict risk for heart disease. Some of these features are smoking, drinking alcohol, physical health, mental health, age, physical activity, as well as sex and general health. Our reasoning for choosing these features as the most important is that they come from the CDC website regarding risks for heart disease<a name=\"https://www.cdc.gov/heartdisease/risk_factors.htm\"></a>[<sup>[4]</sup>](https://www.cdc.gov/heartdisease/risk_factors.htm). These features also line up with what we would think are relevant factors to heart disease, especially features such as smoking and physical health and activity.\n",
    "\n",
    "### Data Handling"
   ]
  },
  {
   "cell_type": "code",
   "execution_count": 1,
   "metadata": {},
   "outputs": [],
   "source": [
    "import pandas as pd\n",
    "import matplotlib.pyplot as plt\n",
    "import numpy as np"
   ]
  },
  {
   "cell_type": "code",
   "execution_count": 2,
   "metadata": {},
   "outputs": [
    {
     "data": {
      "text/html": [
       "<div>\n",
       "<style scoped>\n",
       "    .dataframe tbody tr th:only-of-type {\n",
       "        vertical-align: middle;\n",
       "    }\n",
       "\n",
       "    .dataframe tbody tr th {\n",
       "        vertical-align: top;\n",
       "    }\n",
       "\n",
       "    .dataframe thead th {\n",
       "        text-align: right;\n",
       "    }\n",
       "</style>\n",
       "<table border=\"1\" class=\"dataframe\">\n",
       "  <thead>\n",
       "    <tr style=\"text-align: right;\">\n",
       "      <th></th>\n",
       "      <th>HeartDisease</th>\n",
       "      <th>BMI</th>\n",
       "      <th>Smoking</th>\n",
       "      <th>AlcoholDrinking</th>\n",
       "      <th>Stroke</th>\n",
       "      <th>PhysicalHealth</th>\n",
       "      <th>MentalHealth</th>\n",
       "      <th>DiffWalking</th>\n",
       "      <th>Sex</th>\n",
       "      <th>AgeCategory</th>\n",
       "      <th>Race</th>\n",
       "      <th>Diabetic</th>\n",
       "      <th>PhysicalActivity</th>\n",
       "      <th>GenHealth</th>\n",
       "      <th>SleepTime</th>\n",
       "      <th>Asthma</th>\n",
       "      <th>KidneyDisease</th>\n",
       "      <th>SkinCancer</th>\n",
       "    </tr>\n",
       "  </thead>\n",
       "  <tbody>\n",
       "    <tr>\n",
       "      <th>0</th>\n",
       "      <td>No</td>\n",
       "      <td>16.60</td>\n",
       "      <td>Yes</td>\n",
       "      <td>No</td>\n",
       "      <td>No</td>\n",
       "      <td>3.0</td>\n",
       "      <td>30.0</td>\n",
       "      <td>No</td>\n",
       "      <td>Female</td>\n",
       "      <td>55-59</td>\n",
       "      <td>White</td>\n",
       "      <td>Yes</td>\n",
       "      <td>Yes</td>\n",
       "      <td>Very good</td>\n",
       "      <td>5.0</td>\n",
       "      <td>Yes</td>\n",
       "      <td>No</td>\n",
       "      <td>Yes</td>\n",
       "    </tr>\n",
       "    <tr>\n",
       "      <th>1</th>\n",
       "      <td>No</td>\n",
       "      <td>20.34</td>\n",
       "      <td>No</td>\n",
       "      <td>No</td>\n",
       "      <td>Yes</td>\n",
       "      <td>0.0</td>\n",
       "      <td>0.0</td>\n",
       "      <td>No</td>\n",
       "      <td>Female</td>\n",
       "      <td>80 or older</td>\n",
       "      <td>White</td>\n",
       "      <td>No</td>\n",
       "      <td>Yes</td>\n",
       "      <td>Very good</td>\n",
       "      <td>7.0</td>\n",
       "      <td>No</td>\n",
       "      <td>No</td>\n",
       "      <td>No</td>\n",
       "    </tr>\n",
       "    <tr>\n",
       "      <th>2</th>\n",
       "      <td>No</td>\n",
       "      <td>26.58</td>\n",
       "      <td>Yes</td>\n",
       "      <td>No</td>\n",
       "      <td>No</td>\n",
       "      <td>20.0</td>\n",
       "      <td>30.0</td>\n",
       "      <td>No</td>\n",
       "      <td>Male</td>\n",
       "      <td>65-69</td>\n",
       "      <td>White</td>\n",
       "      <td>Yes</td>\n",
       "      <td>Yes</td>\n",
       "      <td>Fair</td>\n",
       "      <td>8.0</td>\n",
       "      <td>Yes</td>\n",
       "      <td>No</td>\n",
       "      <td>No</td>\n",
       "    </tr>\n",
       "    <tr>\n",
       "      <th>3</th>\n",
       "      <td>No</td>\n",
       "      <td>24.21</td>\n",
       "      <td>No</td>\n",
       "      <td>No</td>\n",
       "      <td>No</td>\n",
       "      <td>0.0</td>\n",
       "      <td>0.0</td>\n",
       "      <td>No</td>\n",
       "      <td>Female</td>\n",
       "      <td>75-79</td>\n",
       "      <td>White</td>\n",
       "      <td>No</td>\n",
       "      <td>No</td>\n",
       "      <td>Good</td>\n",
       "      <td>6.0</td>\n",
       "      <td>No</td>\n",
       "      <td>No</td>\n",
       "      <td>Yes</td>\n",
       "    </tr>\n",
       "    <tr>\n",
       "      <th>4</th>\n",
       "      <td>No</td>\n",
       "      <td>23.71</td>\n",
       "      <td>No</td>\n",
       "      <td>No</td>\n",
       "      <td>No</td>\n",
       "      <td>28.0</td>\n",
       "      <td>0.0</td>\n",
       "      <td>Yes</td>\n",
       "      <td>Female</td>\n",
       "      <td>40-44</td>\n",
       "      <td>White</td>\n",
       "      <td>No</td>\n",
       "      <td>Yes</td>\n",
       "      <td>Very good</td>\n",
       "      <td>8.0</td>\n",
       "      <td>No</td>\n",
       "      <td>No</td>\n",
       "      <td>No</td>\n",
       "    </tr>\n",
       "  </tbody>\n",
       "</table>\n",
       "</div>"
      ],
      "text/plain": [
       "  HeartDisease    BMI Smoking AlcoholDrinking Stroke  PhysicalHealth  \\\n",
       "0           No  16.60     Yes              No     No             3.0   \n",
       "1           No  20.34      No              No    Yes             0.0   \n",
       "2           No  26.58     Yes              No     No            20.0   \n",
       "3           No  24.21      No              No     No             0.0   \n",
       "4           No  23.71      No              No     No            28.0   \n",
       "\n",
       "   MentalHealth DiffWalking     Sex  AgeCategory   Race Diabetic  \\\n",
       "0          30.0          No  Female        55-59  White      Yes   \n",
       "1           0.0          No  Female  80 or older  White       No   \n",
       "2          30.0          No    Male        65-69  White      Yes   \n",
       "3           0.0          No  Female        75-79  White       No   \n",
       "4           0.0         Yes  Female        40-44  White       No   \n",
       "\n",
       "  PhysicalActivity  GenHealth  SleepTime Asthma KidneyDisease SkinCancer  \n",
       "0              Yes  Very good        5.0    Yes            No        Yes  \n",
       "1              Yes  Very good        7.0     No            No         No  \n",
       "2              Yes       Fair        8.0    Yes            No         No  \n",
       "3               No       Good        6.0     No            No        Yes  \n",
       "4              Yes  Very good        8.0     No            No         No  "
      ]
     },
     "execution_count": 2,
     "metadata": {},
     "output_type": "execute_result"
    }
   ],
   "source": [
    "df = pd.read_csv('heart_2020_cleaned.csv')\n",
    "\n",
    "df.head()"
   ]
  },
  {
   "cell_type": "code",
   "execution_count": 3,
   "metadata": {},
   "outputs": [
    {
     "name": "stdout",
     "output_type": "stream",
     "text": [
      "Columns:Index(['HeartDisease', 'BMI', 'Smoking', 'AlcoholDrinking', 'Stroke',\n",
      "       'PhysicalHealth', 'MentalHealth', 'DiffWalking', 'Sex', 'AgeCategory',\n",
      "       'Race', 'Diabetic', 'PhysicalActivity', 'GenHealth', 'SleepTime',\n",
      "       'Asthma', 'KidneyDisease', 'SkinCancer'],\n",
      "      dtype='object')\n",
      "Shapes:(319795, 18)\n"
     ]
    }
   ],
   "source": [
    "print(f'Columns:{df.columns}\\nShapes:{df.shape}')"
   ]
  },
  {
   "cell_type": "markdown",
   "metadata": {},
   "source": [
    "Shapes shown above shows that there are 319795 # of participants, 18 columns (17 variables with 1 label we are trying to predict)"
   ]
  },
  {
   "cell_type": "markdown",
   "metadata": {},
   "source": [
    "### Data Cleaning"
   ]
  },
  {
   "cell_type": "markdown",
   "metadata": {},
   "source": [
    "Look at the unique values form each catagorical data and decide how to conver the data"
   ]
  },
  {
   "cell_type": "code",
   "execution_count": 4,
   "metadata": {
    "scrolled": false
   },
   "outputs": [
    {
     "name": "stdout",
     "output_type": "stream",
     "text": [
      "Catagorical Data Unique Outputs\n",
      "Heart Disease: ['No' 'Yes']\n",
      "Smoking: ['Yes' 'No']\n",
      "Alcohol Drinking: ['No' 'Yes']\n",
      "Stroke: ['No' 'Yes']\n",
      "Difficult in walking: ['No' 'Yes']\n",
      "Sex: ['Female' 'Male']\n",
      "Age: ['55-59' '80 or older' '65-69' '75-79' '40-44' '70-74' '60-64' '50-54'\n",
      " '45-49' '18-24' '35-39' '30-34' '25-29']\n",
      "Race: ['White' 'Black' 'Asian' 'American Indian/Alaskan Native' 'Other'\n",
      " 'Hispanic']\n",
      "Diabetic: ['Yes' 'No' 'No, borderline diabetes' 'Yes (during pregnancy)']\n",
      "Physical Activity: ['Yes' 'No']\n",
      "General Health: ['Very good' 'Fair' 'Good' 'Poor' 'Excellent']\n",
      "Asthma: ['Yes' 'No']\n",
      "Kidney Disease: ['No' 'Yes']\n",
      "Skin Cancer: ['Yes' 'No']\n"
     ]
    }
   ],
   "source": [
    "print(\"Catagorical Data Unique Outputs\")\n",
    "print(f\"Heart Disease: {df['HeartDisease'].unique()}\")\n",
    "print(f\"Smoking: {df['Smoking'].unique()}\")\n",
    "print(f\"Alcohol Drinking: {df['AlcoholDrinking'].unique()}\")\n",
    "print(f\"Stroke: {df['Stroke'].unique()}\")\n",
    "print(f\"Difficult in walking: {df['DiffWalking'].unique()}\")\n",
    "print(f\"Sex: {df['Sex'].unique()}\")\n",
    "print(f\"Age: {df['AgeCategory'].unique()}\")\n",
    "print(f\"Race: {df['Race'].unique()}\")\n",
    "print(f\"Diabetic: {df['Diabetic'].unique()}\")\n",
    "print(f\"Physical Activity: {df['PhysicalActivity'].unique()}\")\n",
    "print(f\"General Health: {df['GenHealth'].unique()}\")\n",
    "print(f\"Asthma: {df['Asthma'].unique()}\")\n",
    "print(f\"Kidney Disease: {df['KidneyDisease'].unique()}\")\n",
    "print(f\"Skin Cancer: {df['SkinCancer'].unique()}\")"
   ]
  },
  {
   "cell_type": "markdown",
   "metadata": {},
   "source": [
    "#### Encode Guide\n",
    "- Yes/No categories (multiple categories) => binary (1/0)\n",
    "- Race => one hot encoding\n",
    "- Diabetic => one hot encoding\n",
    "- Age => int rank (order encoded)\n",
    "- Sex => binary (renamed to Male as in Male = 1, Female = 0)\n",
    "- General Health category => int rank (order encoded)\n"
   ]
  },
  {
   "cell_type": "code",
   "execution_count": 5,
   "metadata": {},
   "outputs": [],
   "source": [
    "# Functions\n",
    "yes_no_to_binary = lambda elem : 1 if elem == 'Yes' else 0\n",
    "sex_to_binary = lambda elem : 1 if elem == 'Male' else 0\n",
    "def genhealth_to_rank(elem):\n",
    "    if elem == 'Excellent':\n",
    "        return 4\n",
    "    if elem == 'Very good':\n",
    "        return 3\n",
    "    if elem == 'Good':\n",
    "        return 2\n",
    "    if elem == 'Fair':\n",
    "        return 1\n",
    "    if elem == 'Poor':\n",
    "        return 0\n",
    "    return \"ERROR\"\n",
    "\n",
    "def encode_age(age):\n",
    "    if age == '18-24':\n",
    "        return 18\n",
    "    elif age == '25-29':\n",
    "        return 25\n",
    "    elif age == '30-34':\n",
    "        return 30\n",
    "    elif age == '35-39':\n",
    "        return 35\n",
    "    elif age == '40-44':\n",
    "        return 40\n",
    "    elif age == '45-49':\n",
    "        return 45\n",
    "    elif age == '50-54':\n",
    "        return 50\n",
    "    elif age == '55-59':\n",
    "        return 55\n",
    "    elif age == '60-64':\n",
    "        return 60\n",
    "    elif age == '65-69':\n",
    "        return 65\n",
    "    elif age == '70-74':\n",
    "        return 70\n",
    "    elif age == '75-79':\n",
    "        return 75\n",
    "    return 80"
   ]
  },
  {
   "cell_type": "code",
   "execution_count": 6,
   "metadata": {},
   "outputs": [],
   "source": [
    "# Yes/No Convertion\n",
    "df['HeartDisease'] = df['HeartDisease'].apply(yes_no_to_binary)\n",
    "df['Smoking'] = df['Smoking'].apply(yes_no_to_binary)\n",
    "df['AlcoholDrinking'] = df['AlcoholDrinking'].apply(yes_no_to_binary)\n",
    "df['Stroke'] = df['Stroke'].apply(yes_no_to_binary)\n",
    "df['DiffWalking'] = df['DiffWalking'].apply(yes_no_to_binary)\n",
    "df['PhysicalActivity'] = df['PhysicalActivity'].apply(yes_no_to_binary)\n",
    "df['Asthma'] = df['Asthma'].apply(yes_no_to_binary)\n",
    "df['KidneyDisease'] = df['KidneyDisease'].apply(yes_no_to_binary)\n",
    "df['SkinCancer'] = df['SkinCancer'].apply(yes_no_to_binary)\n",
    "\n",
    "# Dummy Variables Convertion\n",
    "dummy_race = pd.get_dummies(df['Race'])\n",
    "dummy_race.rename(columns={'American Indian/Alaskan Native':'American_Indian/Alaskan_Native'}, inplace=True)\n",
    "dummy_race.rename(columns={'Other':'Other_Race'}, inplace=True)\n",
    "df = pd.concat([df, dummy_race], axis=1).drop('Race', axis=1)\n",
    "\n",
    "dummy_diabetic = pd.get_dummies(df['Diabetic'])\n",
    "dummy_diabetic.rename(columns={'No, borderline diabetes':'No,Borderline_Diabetic'}, inplace=True)\n",
    "dummy_diabetic.rename(columns={'Yes (during pregnancy)':'Yes(during_pregnancy)'}, inplace=True)\n",
    "df = pd.concat([df, dummy_diabetic], axis=1).drop('Diabetic', axis=1)\n",
    "\n",
    "# Age Convertion\n",
    "df.rename(columns={'AgeCategory':'Age'}, inplace=True)\n",
    "df['Age'] = df['Age'].apply(encode_age)\n",
    "\n",
    "# Sex Convertion\n",
    "df.rename(columns={'Sex':'Male'}, inplace=True)\n",
    "df['Male'] = df['Male'].apply(sex_to_binary)\n",
    "\n",
    "# General Health Convertion\n",
    "df['GenHealth'] = df['GenHealth'].apply(genhealth_to_rank)"
   ]
  },
  {
   "cell_type": "markdown",
   "metadata": {},
   "source": [
    "### EDA"
   ]
  },
  {
   "cell_type": "code",
   "execution_count": 7,
   "metadata": {},
   "outputs": [
    {
     "data": {
      "text/plain": [
       "HeartDisease                        int64\n",
       "BMI                               float64\n",
       "Smoking                             int64\n",
       "AlcoholDrinking                     int64\n",
       "Stroke                              int64\n",
       "PhysicalHealth                    float64\n",
       "MentalHealth                      float64\n",
       "DiffWalking                         int64\n",
       "Male                                int64\n",
       "Age                                 int64\n",
       "PhysicalActivity                    int64\n",
       "GenHealth                           int64\n",
       "SleepTime                         float64\n",
       "Asthma                              int64\n",
       "KidneyDisease                       int64\n",
       "SkinCancer                          int64\n",
       "American_Indian/Alaskan_Native      uint8\n",
       "Asian                               uint8\n",
       "Black                               uint8\n",
       "Hispanic                            uint8\n",
       "Other_Race                          uint8\n",
       "White                               uint8\n",
       "No                                  uint8\n",
       "No,Borderline_Diabetic              uint8\n",
       "Yes                                 uint8\n",
       "Yes(during_pregnancy)               uint8\n",
       "dtype: object"
      ]
     },
     "execution_count": 7,
     "metadata": {},
     "output_type": "execute_result"
    }
   ],
   "source": [
    "# Show datatype of cleaned data\n",
    "df.dtypes"
   ]
  },
  {
   "cell_type": "code",
   "execution_count": 8,
   "metadata": {
    "scrolled": true
   },
   "outputs": [
    {
     "data": {
      "text/html": [
       "<div>\n",
       "<style scoped>\n",
       "    .dataframe tbody tr th:only-of-type {\n",
       "        vertical-align: middle;\n",
       "    }\n",
       "\n",
       "    .dataframe tbody tr th {\n",
       "        vertical-align: top;\n",
       "    }\n",
       "\n",
       "    .dataframe thead th {\n",
       "        text-align: right;\n",
       "    }\n",
       "</style>\n",
       "<table border=\"1\" class=\"dataframe\">\n",
       "  <thead>\n",
       "    <tr style=\"text-align: right;\">\n",
       "      <th></th>\n",
       "      <th>HeartDisease</th>\n",
       "      <th>BMI</th>\n",
       "      <th>Smoking</th>\n",
       "      <th>AlcoholDrinking</th>\n",
       "      <th>Stroke</th>\n",
       "      <th>PhysicalHealth</th>\n",
       "      <th>MentalHealth</th>\n",
       "      <th>DiffWalking</th>\n",
       "      <th>Male</th>\n",
       "      <th>Age</th>\n",
       "      <th>...</th>\n",
       "      <th>American_Indian/Alaskan_Native</th>\n",
       "      <th>Asian</th>\n",
       "      <th>Black</th>\n",
       "      <th>Hispanic</th>\n",
       "      <th>Other_Race</th>\n",
       "      <th>White</th>\n",
       "      <th>No</th>\n",
       "      <th>No,Borderline_Diabetic</th>\n",
       "      <th>Yes</th>\n",
       "      <th>Yes(during_pregnancy)</th>\n",
       "    </tr>\n",
       "  </thead>\n",
       "  <tbody>\n",
       "    <tr>\n",
       "      <th>count</th>\n",
       "      <td>319795.000000</td>\n",
       "      <td>319795.000000</td>\n",
       "      <td>319795.000000</td>\n",
       "      <td>319795.000000</td>\n",
       "      <td>319795.000000</td>\n",
       "      <td>319795.00000</td>\n",
       "      <td>319795.000000</td>\n",
       "      <td>319795.000000</td>\n",
       "      <td>319795.000000</td>\n",
       "      <td>319795.000000</td>\n",
       "      <td>...</td>\n",
       "      <td>319795.000000</td>\n",
       "      <td>319795.000000</td>\n",
       "      <td>319795.000000</td>\n",
       "      <td>319795.000000</td>\n",
       "      <td>319795.000000</td>\n",
       "      <td>319795.000000</td>\n",
       "      <td>319795.000000</td>\n",
       "      <td>319795.000000</td>\n",
       "      <td>319795.000000</td>\n",
       "      <td>319795.000000</td>\n",
       "    </tr>\n",
       "    <tr>\n",
       "      <th>mean</th>\n",
       "      <td>0.085595</td>\n",
       "      <td>28.325399</td>\n",
       "      <td>0.412477</td>\n",
       "      <td>0.068097</td>\n",
       "      <td>0.037740</td>\n",
       "      <td>3.37171</td>\n",
       "      <td>3.898366</td>\n",
       "      <td>0.138870</td>\n",
       "      <td>0.475273</td>\n",
       "      <td>52.440945</td>\n",
       "      <td>...</td>\n",
       "      <td>0.016267</td>\n",
       "      <td>0.025229</td>\n",
       "      <td>0.071730</td>\n",
       "      <td>0.085824</td>\n",
       "      <td>0.034172</td>\n",
       "      <td>0.766779</td>\n",
       "      <td>0.843206</td>\n",
       "      <td>0.021204</td>\n",
       "      <td>0.127588</td>\n",
       "      <td>0.008002</td>\n",
       "    </tr>\n",
       "    <tr>\n",
       "      <th>std</th>\n",
       "      <td>0.279766</td>\n",
       "      <td>6.356100</td>\n",
       "      <td>0.492281</td>\n",
       "      <td>0.251912</td>\n",
       "      <td>0.190567</td>\n",
       "      <td>7.95085</td>\n",
       "      <td>7.955235</td>\n",
       "      <td>0.345812</td>\n",
       "      <td>0.499389</td>\n",
       "      <td>18.069747</td>\n",
       "      <td>...</td>\n",
       "      <td>0.126499</td>\n",
       "      <td>0.156819</td>\n",
       "      <td>0.258041</td>\n",
       "      <td>0.280104</td>\n",
       "      <td>0.181671</td>\n",
       "      <td>0.422883</td>\n",
       "      <td>0.363607</td>\n",
       "      <td>0.144065</td>\n",
       "      <td>0.333631</td>\n",
       "      <td>0.089095</td>\n",
       "    </tr>\n",
       "    <tr>\n",
       "      <th>min</th>\n",
       "      <td>0.000000</td>\n",
       "      <td>12.020000</td>\n",
       "      <td>0.000000</td>\n",
       "      <td>0.000000</td>\n",
       "      <td>0.000000</td>\n",
       "      <td>0.00000</td>\n",
       "      <td>0.000000</td>\n",
       "      <td>0.000000</td>\n",
       "      <td>0.000000</td>\n",
       "      <td>18.000000</td>\n",
       "      <td>...</td>\n",
       "      <td>0.000000</td>\n",
       "      <td>0.000000</td>\n",
       "      <td>0.000000</td>\n",
       "      <td>0.000000</td>\n",
       "      <td>0.000000</td>\n",
       "      <td>0.000000</td>\n",
       "      <td>0.000000</td>\n",
       "      <td>0.000000</td>\n",
       "      <td>0.000000</td>\n",
       "      <td>0.000000</td>\n",
       "    </tr>\n",
       "    <tr>\n",
       "      <th>25%</th>\n",
       "      <td>0.000000</td>\n",
       "      <td>24.030000</td>\n",
       "      <td>0.000000</td>\n",
       "      <td>0.000000</td>\n",
       "      <td>0.000000</td>\n",
       "      <td>0.00000</td>\n",
       "      <td>0.000000</td>\n",
       "      <td>0.000000</td>\n",
       "      <td>0.000000</td>\n",
       "      <td>40.000000</td>\n",
       "      <td>...</td>\n",
       "      <td>0.000000</td>\n",
       "      <td>0.000000</td>\n",
       "      <td>0.000000</td>\n",
       "      <td>0.000000</td>\n",
       "      <td>0.000000</td>\n",
       "      <td>1.000000</td>\n",
       "      <td>1.000000</td>\n",
       "      <td>0.000000</td>\n",
       "      <td>0.000000</td>\n",
       "      <td>0.000000</td>\n",
       "    </tr>\n",
       "    <tr>\n",
       "      <th>50%</th>\n",
       "      <td>0.000000</td>\n",
       "      <td>27.340000</td>\n",
       "      <td>0.000000</td>\n",
       "      <td>0.000000</td>\n",
       "      <td>0.000000</td>\n",
       "      <td>0.00000</td>\n",
       "      <td>0.000000</td>\n",
       "      <td>0.000000</td>\n",
       "      <td>0.000000</td>\n",
       "      <td>55.000000</td>\n",
       "      <td>...</td>\n",
       "      <td>0.000000</td>\n",
       "      <td>0.000000</td>\n",
       "      <td>0.000000</td>\n",
       "      <td>0.000000</td>\n",
       "      <td>0.000000</td>\n",
       "      <td>1.000000</td>\n",
       "      <td>1.000000</td>\n",
       "      <td>0.000000</td>\n",
       "      <td>0.000000</td>\n",
       "      <td>0.000000</td>\n",
       "    </tr>\n",
       "    <tr>\n",
       "      <th>75%</th>\n",
       "      <td>0.000000</td>\n",
       "      <td>31.420000</td>\n",
       "      <td>1.000000</td>\n",
       "      <td>0.000000</td>\n",
       "      <td>0.000000</td>\n",
       "      <td>2.00000</td>\n",
       "      <td>3.000000</td>\n",
       "      <td>0.000000</td>\n",
       "      <td>1.000000</td>\n",
       "      <td>65.000000</td>\n",
       "      <td>...</td>\n",
       "      <td>0.000000</td>\n",
       "      <td>0.000000</td>\n",
       "      <td>0.000000</td>\n",
       "      <td>0.000000</td>\n",
       "      <td>0.000000</td>\n",
       "      <td>1.000000</td>\n",
       "      <td>1.000000</td>\n",
       "      <td>0.000000</td>\n",
       "      <td>0.000000</td>\n",
       "      <td>0.000000</td>\n",
       "    </tr>\n",
       "    <tr>\n",
       "      <th>max</th>\n",
       "      <td>1.000000</td>\n",
       "      <td>94.850000</td>\n",
       "      <td>1.000000</td>\n",
       "      <td>1.000000</td>\n",
       "      <td>1.000000</td>\n",
       "      <td>30.00000</td>\n",
       "      <td>30.000000</td>\n",
       "      <td>1.000000</td>\n",
       "      <td>1.000000</td>\n",
       "      <td>80.000000</td>\n",
       "      <td>...</td>\n",
       "      <td>1.000000</td>\n",
       "      <td>1.000000</td>\n",
       "      <td>1.000000</td>\n",
       "      <td>1.000000</td>\n",
       "      <td>1.000000</td>\n",
       "      <td>1.000000</td>\n",
       "      <td>1.000000</td>\n",
       "      <td>1.000000</td>\n",
       "      <td>1.000000</td>\n",
       "      <td>1.000000</td>\n",
       "    </tr>\n",
       "  </tbody>\n",
       "</table>\n",
       "<p>8 rows × 26 columns</p>\n",
       "</div>"
      ],
      "text/plain": [
       "        HeartDisease            BMI        Smoking  AlcoholDrinking  \\\n",
       "count  319795.000000  319795.000000  319795.000000    319795.000000   \n",
       "mean        0.085595      28.325399       0.412477         0.068097   \n",
       "std         0.279766       6.356100       0.492281         0.251912   \n",
       "min         0.000000      12.020000       0.000000         0.000000   \n",
       "25%         0.000000      24.030000       0.000000         0.000000   \n",
       "50%         0.000000      27.340000       0.000000         0.000000   \n",
       "75%         0.000000      31.420000       1.000000         0.000000   \n",
       "max         1.000000      94.850000       1.000000         1.000000   \n",
       "\n",
       "              Stroke  PhysicalHealth   MentalHealth    DiffWalking  \\\n",
       "count  319795.000000    319795.00000  319795.000000  319795.000000   \n",
       "mean        0.037740         3.37171       3.898366       0.138870   \n",
       "std         0.190567         7.95085       7.955235       0.345812   \n",
       "min         0.000000         0.00000       0.000000       0.000000   \n",
       "25%         0.000000         0.00000       0.000000       0.000000   \n",
       "50%         0.000000         0.00000       0.000000       0.000000   \n",
       "75%         0.000000         2.00000       3.000000       0.000000   \n",
       "max         1.000000        30.00000      30.000000       1.000000   \n",
       "\n",
       "                Male            Age  ...  American_Indian/Alaskan_Native  \\\n",
       "count  319795.000000  319795.000000  ...                   319795.000000   \n",
       "mean        0.475273      52.440945  ...                        0.016267   \n",
       "std         0.499389      18.069747  ...                        0.126499   \n",
       "min         0.000000      18.000000  ...                        0.000000   \n",
       "25%         0.000000      40.000000  ...                        0.000000   \n",
       "50%         0.000000      55.000000  ...                        0.000000   \n",
       "75%         1.000000      65.000000  ...                        0.000000   \n",
       "max         1.000000      80.000000  ...                        1.000000   \n",
       "\n",
       "               Asian          Black       Hispanic     Other_Race  \\\n",
       "count  319795.000000  319795.000000  319795.000000  319795.000000   \n",
       "mean        0.025229       0.071730       0.085824       0.034172   \n",
       "std         0.156819       0.258041       0.280104       0.181671   \n",
       "min         0.000000       0.000000       0.000000       0.000000   \n",
       "25%         0.000000       0.000000       0.000000       0.000000   \n",
       "50%         0.000000       0.000000       0.000000       0.000000   \n",
       "75%         0.000000       0.000000       0.000000       0.000000   \n",
       "max         1.000000       1.000000       1.000000       1.000000   \n",
       "\n",
       "               White             No  No,Borderline_Diabetic            Yes  \\\n",
       "count  319795.000000  319795.000000           319795.000000  319795.000000   \n",
       "mean        0.766779       0.843206                0.021204       0.127588   \n",
       "std         0.422883       0.363607                0.144065       0.333631   \n",
       "min         0.000000       0.000000                0.000000       0.000000   \n",
       "25%         1.000000       1.000000                0.000000       0.000000   \n",
       "50%         1.000000       1.000000                0.000000       0.000000   \n",
       "75%         1.000000       1.000000                0.000000       0.000000   \n",
       "max         1.000000       1.000000                1.000000       1.000000   \n",
       "\n",
       "       Yes(during_pregnancy)  \n",
       "count          319795.000000  \n",
       "mean                0.008002  \n",
       "std                 0.089095  \n",
       "min                 0.000000  \n",
       "25%                 0.000000  \n",
       "50%                 0.000000  \n",
       "75%                 0.000000  \n",
       "max                 1.000000  \n",
       "\n",
       "[8 rows x 26 columns]"
      ]
     },
     "execution_count": 8,
     "metadata": {},
     "output_type": "execute_result"
    }
   ],
   "source": [
    "# View the distribution of the data\n",
    "df.describe()"
   ]
  },
  {
   "cell_type": "markdown",
   "metadata": {},
   "source": [
    "As shown above, the amount of people who does not have heart disease significantly outweights people who have. therefore there's a mean of 0.085595 for the binary (0, 1) column.\n",
    "\n",
    "Below, we decided to visualize the correlation of smoking with heart disease and the correlation of age vs heart disease. These two are among the common features that causes heart diseases."
   ]
  },
  {
   "cell_type": "code",
   "execution_count": 9,
   "metadata": {},
   "outputs": [
    {
     "data": {
      "text/plain": [
       "Text(0.5, 1.0, 'Percentage of Heart Disease Patients that Smoke vs Does not Smoke')"
      ]
     },
     "execution_count": 9,
     "metadata": {},
     "output_type": "execute_result"
    },
    {
     "data": {
      "image/png": "[encoded data removed]",
      "text/plain": [
       "<Figure size 432x288 with 1 Axes>"
      ]
     },
     "metadata": {
      "needs_background": "light"
     },
     "output_type": "display_data"
    }
   ],
   "source": [
    "fig, ax = plt.subplots(figsize = (6,4))\n",
    "\n",
    "heart_disease_smoking_cnt = len(df[(df['HeartDisease']==1) & (df['Smoking']==1)]['Smoking'])\n",
    "smoking_cnt = len(df[df['Smoking']==1]['Smoking'])\n",
    "heart_disease_no_smoking_cnt = len(df[(df['HeartDisease']==1) & (df['Smoking']==0)]['Smoking'])\n",
    "non_smoking_cnt = len(df[df['Smoking']==0]['Smoking'])\n",
    "\n",
    "smoking_heart_diseases = heart_disease_smoking_cnt/smoking_cnt\n",
    "not_smoking_heart_diseases = heart_disease_no_smoking_cnt/non_smoking_cnt\n",
    "\n",
    "ax.bar([\"Smoking\", \"Non-smoking\"], [smoking_heart_diseases, not_smoking_heart_diseases], color=['r','b'])\n",
    "ax.set_xlabel(\"patient smoking status\")\n",
    "ax.set_ylabel(\"Proportion of Heart disease\")\n",
    "plt.title(\"Percentage of Heart Disease Patients that Smoke vs Does not Smoke\")"
   ]
  },
  {
   "cell_type": "code",
   "execution_count": 10,
   "metadata": {},
   "outputs": [
    {
     "data": {
      "image/png": "[encoded data removed]",
      "text/plain": [
       "<Figure size 432x288 with 1 Axes>"
      ]
     },
     "metadata": {
      "needs_background": "light"
     },
     "output_type": "display_data"
    }
   ],
   "source": [
    "# visualize the proportion of heart disease vs age\n",
    "x_label = ['18', '25', '30', '35', '40', '45', '50', '55', '60', '65', '70', '75', '80']\n",
    "\n",
    "count_by_age_df = df[\"Age\"].value_counts()\n",
    "count_by_age_arr = [count_by_age_df[int(i)] for i in x_label]\n",
    "\n",
    "count_by_hd_age_df = df[df[\"HeartDisease\"]==1][\"Age\"].value_counts()\n",
    "count_by_hd_age_arr = [count_by_hd_age_df[int(i)] for i in x_label]\n",
    "\n",
    "proportion = [count_by_hd_age_arr[i]/count_by_age_arr[i] for i in range(len(x_label))]\n",
    "\n",
    "plt.figure(figsize=(6, 4))\n",
    "plt.bar(x_label, proportion)\n",
    "plt.xlabel(\"Age Groups\")\n",
    "plt.ylabel(\"% of Heart Disease Instances\")\n",
    "plt.title(\"Proportion of Heart Disease patients by Age\")\n",
    "plt.show()"
   ]
  },
  {
   "cell_type": "markdown",
   "metadata": {},
   "source": [
    "# Proposed Solution\n",
    "\n",
    "We will be developing a logistic regression and K-NN model, given parameters, such as smoking, alcohol drinking, and etc., to predict whether a patient is likely to have heart diseases or not. The goal of having both models is to find the best model that can make heart disease predictions. With logistic regression, we can also make inference on which variable influences the decision.\n",
    "\n",
    "By discovering similar characteristics for patients who have heart disease, along with a substantial number of observations, we hope to apply some of these characteristics as a more general prediction for patients who could have heart disease in the future as a preventative measure. We would test this solution using k-folds cross validation between our selected models in order to better generalize our algorithm. We would be able to use this form of cross validation due to the large number of observations that are in our dataset."
   ]
  },
  {
   "cell_type": "markdown",
   "metadata": {},
   "source": [
    "# Evaluation Metrics\n",
    "\n",
    "10% out of 320,000 observations in the total dataset will be used toward the test set. Note the proportion may be changed depending on how we modify our approach (we may need to reduce the number of patients with no heart disease to balance out the heart disease variable proportion).\n",
    "\n",
    "The F1 score best fits our research question because it measures how correctly our data is classified without putting a heavier weight on True Positives or False Negatives since it is a harmonic mean between precision and recall. Additionally, we chose not to use the accuracy metric because our data is pretty unbalanced, with a very low proportion of patients with heart disease which can lead to a biased or misleading interpretation of results when using the accuracy metric. Therefore, F1 provides a more holistic interpretation of results, as it takes into account both precision and recall, while not be as affected by our unbalanced data like accuracy would."
   ]
  },
  {
   "cell_type": "markdown",
   "metadata": {},
   "source": [
    "# Preliminary results"
   ]
  },
  {
   "cell_type": "markdown",
   "metadata": {},
   "source": [
    "### Data Split\n",
    "\n",
    "Split the data into train/test, we will use stratified shuffle split as people who have heart disease heavily outweights people who does not.\n",
    "\n",
    "Note (consistency):\n",
    "random_state=1"
   ]
  },
  {
   "cell_type": "code",
   "execution_count": 11,
   "metadata": {},
   "outputs": [
    {
     "data": {
      "text/html": [
       "<div>\n",
       "<style scoped>\n",
       "    .dataframe tbody tr th:only-of-type {\n",
       "        vertical-align: middle;\n",
       "    }\n",
       "\n",
       "    .dataframe tbody tr th {\n",
       "        vertical-align: top;\n",
       "    }\n",
       "\n",
       "    .dataframe thead th {\n",
       "        text-align: right;\n",
       "    }\n",
       "</style>\n",
       "<table border=\"1\" class=\"dataframe\">\n",
       "  <thead>\n",
       "    <tr style=\"text-align: right;\">\n",
       "      <th></th>\n",
       "      <th>HeartDisease</th>\n",
       "      <th>BMI</th>\n",
       "      <th>Smoking</th>\n",
       "      <th>AlcoholDrinking</th>\n",
       "      <th>Stroke</th>\n",
       "      <th>PhysicalHealth</th>\n",
       "      <th>MentalHealth</th>\n",
       "      <th>DiffWalking</th>\n",
       "      <th>Male</th>\n",
       "      <th>Age</th>\n",
       "      <th>...</th>\n",
       "      <th>American_Indian/Alaskan_Native</th>\n",
       "      <th>Asian</th>\n",
       "      <th>Black</th>\n",
       "      <th>Hispanic</th>\n",
       "      <th>Other_Race</th>\n",
       "      <th>White</th>\n",
       "      <th>No</th>\n",
       "      <th>No,Borderline_Diabetic</th>\n",
       "      <th>Yes</th>\n",
       "      <th>Yes(during_pregnancy)</th>\n",
       "    </tr>\n",
       "  </thead>\n",
       "  <tbody>\n",
       "    <tr>\n",
       "      <th>0</th>\n",
       "      <td>0</td>\n",
       "      <td>16.60</td>\n",
       "      <td>1</td>\n",
       "      <td>0</td>\n",
       "      <td>0</td>\n",
       "      <td>3.0</td>\n",
       "      <td>30.0</td>\n",
       "      <td>0</td>\n",
       "      <td>0</td>\n",
       "      <td>55</td>\n",
       "      <td>...</td>\n",
       "      <td>0</td>\n",
       "      <td>0</td>\n",
       "      <td>0</td>\n",
       "      <td>0</td>\n",
       "      <td>0</td>\n",
       "      <td>1</td>\n",
       "      <td>0</td>\n",
       "      <td>0</td>\n",
       "      <td>1</td>\n",
       "      <td>0</td>\n",
       "    </tr>\n",
       "    <tr>\n",
       "      <th>1</th>\n",
       "      <td>0</td>\n",
       "      <td>20.34</td>\n",
       "      <td>0</td>\n",
       "      <td>0</td>\n",
       "      <td>1</td>\n",
       "      <td>0.0</td>\n",
       "      <td>0.0</td>\n",
       "      <td>0</td>\n",
       "      <td>0</td>\n",
       "      <td>80</td>\n",
       "      <td>...</td>\n",
       "      <td>0</td>\n",
       "      <td>0</td>\n",
       "      <td>0</td>\n",
       "      <td>0</td>\n",
       "      <td>0</td>\n",
       "      <td>1</td>\n",
       "      <td>1</td>\n",
       "      <td>0</td>\n",
       "      <td>0</td>\n",
       "      <td>0</td>\n",
       "    </tr>\n",
       "    <tr>\n",
       "      <th>2</th>\n",
       "      <td>0</td>\n",
       "      <td>26.58</td>\n",
       "      <td>1</td>\n",
       "      <td>0</td>\n",
       "      <td>0</td>\n",
       "      <td>20.0</td>\n",
       "      <td>30.0</td>\n",
       "      <td>0</td>\n",
       "      <td>1</td>\n",
       "      <td>65</td>\n",
       "      <td>...</td>\n",
       "      <td>0</td>\n",
       "      <td>0</td>\n",
       "      <td>0</td>\n",
       "      <td>0</td>\n",
       "      <td>0</td>\n",
       "      <td>1</td>\n",
       "      <td>0</td>\n",
       "      <td>0</td>\n",
       "      <td>1</td>\n",
       "      <td>0</td>\n",
       "    </tr>\n",
       "    <tr>\n",
       "      <th>3</th>\n",
       "      <td>0</td>\n",
       "      <td>24.21</td>\n",
       "      <td>0</td>\n",
       "      <td>0</td>\n",
       "      <td>0</td>\n",
       "      <td>0.0</td>\n",
       "      <td>0.0</td>\n",
       "      <td>0</td>\n",
       "      <td>0</td>\n",
       "      <td>75</td>\n",
       "      <td>...</td>\n",
       "      <td>0</td>\n",
       "      <td>0</td>\n",
       "      <td>0</td>\n",
       "      <td>0</td>\n",
       "      <td>0</td>\n",
       "      <td>1</td>\n",
       "      <td>1</td>\n",
       "      <td>0</td>\n",
       "      <td>0</td>\n",
       "      <td>0</td>\n",
       "    </tr>\n",
       "    <tr>\n",
       "      <th>4</th>\n",
       "      <td>0</td>\n",
       "      <td>23.71</td>\n",
       "      <td>0</td>\n",
       "      <td>0</td>\n",
       "      <td>0</td>\n",
       "      <td>28.0</td>\n",
       "      <td>0.0</td>\n",
       "      <td>1</td>\n",
       "      <td>0</td>\n",
       "      <td>40</td>\n",
       "      <td>...</td>\n",
       "      <td>0</td>\n",
       "      <td>0</td>\n",
       "      <td>0</td>\n",
       "      <td>0</td>\n",
       "      <td>0</td>\n",
       "      <td>1</td>\n",
       "      <td>1</td>\n",
       "      <td>0</td>\n",
       "      <td>0</td>\n",
       "      <td>0</td>\n",
       "    </tr>\n",
       "  </tbody>\n",
       "</table>\n",
       "<p>5 rows × 26 columns</p>\n",
       "</div>"
      ],
      "text/plain": [
       "   HeartDisease    BMI  Smoking  AlcoholDrinking  Stroke  PhysicalHealth  \\\n",
       "0             0  16.60        1                0       0             3.0   \n",
       "1             0  20.34        0                0       1             0.0   \n",
       "2             0  26.58        1                0       0            20.0   \n",
       "3             0  24.21        0                0       0             0.0   \n",
       "4             0  23.71        0                0       0            28.0   \n",
       "\n",
       "   MentalHealth  DiffWalking  Male  Age  ...  American_Indian/Alaskan_Native  \\\n",
       "0          30.0            0     0   55  ...                               0   \n",
       "1           0.0            0     0   80  ...                               0   \n",
       "2          30.0            0     1   65  ...                               0   \n",
       "3           0.0            0     0   75  ...                               0   \n",
       "4           0.0            1     0   40  ...                               0   \n",
       "\n",
       "   Asian  Black  Hispanic  Other_Race  White  No  No,Borderline_Diabetic  Yes  \\\n",
       "0      0      0         0           0      1   0                       0    1   \n",
       "1      0      0         0           0      1   1                       0    0   \n",
       "2      0      0         0           0      1   0                       0    1   \n",
       "3      0      0         0           0      1   1                       0    0   \n",
       "4      0      0         0           0      1   1                       0    0   \n",
       "\n",
       "   Yes(during_pregnancy)  \n",
       "0                      0  \n",
       "1                      0  \n",
       "2                      0  \n",
       "3                      0  \n",
       "4                      0  \n",
       "\n",
       "[5 rows x 26 columns]"
      ]
     },
     "execution_count": 11,
     "metadata": {},
     "output_type": "execute_result"
    }
   ],
   "source": [
    "df.head()"
   ]
  },
  {
   "cell_type": "code",
   "execution_count": 12,
   "metadata": {},
   "outputs": [
    {
     "data": {
      "text/plain": [
       "((287815, 25), (31980, 25), (287815,), (31980,))"
      ]
     },
     "execution_count": 12,
     "metadata": {},
     "output_type": "execute_result"
    }
   ],
   "source": [
    "from sklearn.model_selection import train_test_split\n",
    "\n",
    "# Note Column Names Are Not Included\n",
    "data = df.to_numpy()\n",
    "X = data[:,1:]\n",
    "y = data[:,0]\n",
    "\n",
    "# Split data (with stratified shuffle split)\n",
    "X_train, X_test, y_train, y_test = train_test_split(X, y, test_size=0.10, random_state=1, stratify=y)\n",
    "\n",
    "# Output shape of each dataset\n",
    "X_train.shape, X_test.shape, y_train.shape, y_test.shape"
   ]
  },
  {
   "cell_type": "markdown",
   "metadata": {},
   "source": [
    "### Baseline Preformance Estimation\n",
    "\n",
    "Here, we will preform a simple logistic regression to provide a baseline of what the most general case of logistic regression can provide."
   ]
  },
  {
   "cell_type": "code",
   "execution_count": 13,
   "metadata": {},
   "outputs": [
    {
     "name": "stdout",
     "output_type": "stream",
     "text": [
      "Accuracy on Train set: 0.9157236419227629\n",
      "Accuracy on Test set: 0.916447779862414\n"
     ]
    }
   ],
   "source": [
    "from sklearn.linear_model import LogisticRegression\n",
    "\n",
    "logreg = LogisticRegression(max_iter=5000, random_state=1)\n",
    "clf = logreg.fit(X_train, y_train)\n",
    "\n",
    "print(f'Accuracy on Train set: {clf.score(X_train, y_train)}')\n",
    "print(f'Accuracy on Test set: {clf.score(X_test, y_test)}')"
   ]
  },
  {
   "cell_type": "code",
   "execution_count": 14,
   "metadata": {},
   "outputs": [
    {
     "name": "stdout",
     "output_type": "stream",
     "text": [
      "              precision    recall  f1-score   support\n",
      "\n",
      "         0.0       0.92      0.99      0.96     29243\n",
      "         1.0       0.56      0.11      0.19      2737\n",
      "\n",
      "    accuracy                           0.92     31980\n",
      "   macro avg       0.74      0.55      0.57     31980\n",
      "weighted avg       0.89      0.92      0.89     31980\n",
      "\n"
     ]
    }
   ],
   "source": [
    "from sklearn.metrics import classification_report\n",
    "\n",
    "y_test_pred = clf.predict(X_test)\n",
    "print(classification_report(y_test, y_test_pred))"
   ]
  },
  {
   "cell_type": "code",
   "execution_count": 15,
   "metadata": {},
   "outputs": [
    {
     "data": {
      "image/png": "[encoded data removed]",
      "text/plain": [
       "<Figure size 432x288 with 2 Axes>"
      ]
     },
     "metadata": {
      "needs_background": "light"
     },
     "output_type": "display_data"
    }
   ],
   "source": [
    "from sklearn.metrics import plot_confusion_matrix\n",
    "plot_confusion_matrix(clf,X_test,y_test);\n",
    "plt.grid(False);"
   ]
  },
  {
   "cell_type": "markdown",
   "metadata": {},
   "source": [
    "Our baseline performance preforms extremely poorly. As shown by the confusion matrix above, logistic regression works decently well when looking at accuracy. However, the classification of whether a patient may have heart disease is more important when the patient actually has heart disease. When looking at its precision and recall, we can see that logistic regression does a poor job of classifying those with heart disease properly. Logistic regression only classified 56% of patients as having heart disease correctly out of all patients that it had classified as having heart disease (precision). Also, only a measly 11% were properly classified as having heart disease out of all patients who did (recall). With our focus on classification of patients having heart disease, recall is a very important metric as those with heart disease should be properly identified as having heart disease. In addition, the f1 score obtained is 0.19, this further shows our baseline algorithm's inability to predict correctly."
   ]
  },
  {
   "cell_type": "markdown",
   "metadata": {},
   "source": [
    "### Attempt to fix the issue\n",
    "\n",
    "To fix the issue of unbalanced dataset in terms of labeling, there are few solutions on our mind. Below, we will be trying one of them by introducing class weight to logistic regression:"
   ]
  },
  {
   "cell_type": "code",
   "execution_count": 16,
   "metadata": {},
   "outputs": [
    {
     "name": "stdout",
     "output_type": "stream",
     "text": [
      "Accuracy on Train set: 0.7514062852874243\n",
      "Accuracy on Test set: 0.7521575984990619\n",
      "              precision    recall  f1-score   support\n",
      "\n",
      "         0.0       0.97      0.75      0.85     29243\n",
      "         1.0       0.23      0.78      0.35      2737\n",
      "\n",
      "    accuracy                           0.75     31980\n",
      "   macro avg       0.60      0.76      0.60     31980\n",
      "weighted avg       0.91      0.75      0.80     31980\n",
      "\n"
     ]
    },
    {
     "data": {
      "image/png": "[encoded data removed]",
      "text/plain": [
       "<Figure size 432x288 with 2 Axes>"
      ]
     },
     "metadata": {
      "needs_background": "light"
     },
     "output_type": "display_data"
    }
   ],
   "source": [
    "from sklearn.linear_model import LogisticRegression\n",
    "from sklearn.metrics import classification_report\n",
    "from sklearn.metrics import plot_confusion_matrix\n",
    "\n",
    "logreg = LogisticRegression(max_iter=5000, random_state=1, class_weight=\"balanced\")\n",
    "clf = logreg.fit(X_train, y_train)\n",
    "\n",
    "print(f'Accuracy on Train set: {clf.score(X_train, y_train)}')\n",
    "print(f'Accuracy on Test set: {clf.score(X_test, y_test)}')\n",
    "\n",
    "y_test_pred = clf.predict(X_test)\n",
    "print(classification_report(y_test, y_test_pred))\n",
    "\n",
    "plot_confusion_matrix(clf,X_test,y_test);\n",
    "plt.grid(False);"
   ]
  },
  {
   "cell_type": "markdown",
   "metadata": {},
   "source": [
    "Above, we introduced class_weight with the \"balanced\" setting that sklearn have. Without dividng deep into the dataset (for now), this setting give us a much better recall value, while prevision worsten. However, we view this as an significant improvement as the more important recall score went from 0.11 (without class_weight) to 0.78 (with class_weight). F1 score also have an improvement through the combination of the significant increment of recall and decrease of precision. F1 score went from 0.19 (without class_weight) to 0.35 (with class_weight).\n",
    "\n",
    "Note: there are still a significant room for improvement. There are more things we can try such as remove some of the healthy patient data to achieve balance, try out different algorithem, and manually adjust class weight."
   ]
  },
  {
   "cell_type": "markdown",
   "metadata": {},
   "source": [
    "### KNN"
   ]
  },
  {
   "cell_type": "code",
   "execution_count": 51,
   "metadata": {},
   "outputs": [],
   "source": [
    "from sklearn.neighbors import KNeighborsClassifier\n",
    "\n",
    "num_neigh = [*range(1, 10)]\n",
    "scores = []\n",
    "\n",
    "for num in num_neigh:\n",
    "    neigh = KNeighborsClassifier(n_neighbors = num)\n",
    "    neigh.fit(X_train, y_train)\n",
    "    y_pred = neigh.predict(X_test)\n",
    "    score = metrics.accuracy_score(y_test, y_pred)\n",
    "    scores.append(score)"
   ]
  },
  {
   "cell_type": "code",
   "execution_count": 52,
   "metadata": {},
   "outputs": [
    {
     "data": {
      "text/plain": [
       "[<matplotlib.lines.Line2D at 0x127c2da00>]"
      ]
     },
     "execution_count": 52,
     "metadata": {},
     "output_type": "execute_result"
    },
    {
     "data": {
      "image/png": "[encoded data removed]",
      "text/plain": [
       "<Figure size 432x288 with 1 Axes>"
      ]
     },
     "metadata": {
      "needs_background": "light"
     },
     "output_type": "display_data"
    }
   ],
   "source": [
    "plt.plot(num_neigh, scores)"
   ]
  },
  {
   "cell_type": "markdown",
   "metadata": {},
   "source": [
    "# Ethics & Privacy"
   ]
  },
  {
   "cell_type": "markdown",
   "metadata": {},
   "source": [
    "Our datasets will come from public datasets. Since our dataset comes from a survey that was collected by the CDC, the methods of data collection shouldn't be a violation of privacy as long as their name and personal information is not included. Additionally, in terms of data storage, we do not hold any personal information of the participants of the survey and it is a public dataset, so fears of data leakage or data deletion should not pose a problem. Additionally, this survey was taken by over 320,000 adults across all 50 states, so there is a very big sample to help decrease any bias and increase generalizability to adults in the U.S. Since, only about 10% of our data includes positive cases, this could lead to a potential bias towards a certain group or population in our data. To help ensure we don’t encounter any ethics or privacy problems in our project, we can use deon to check our project. "
   ]
  },
  {
   "cell_type": "markdown",
   "metadata": {},
   "source": [
    "# Team Expectations "
   ]
  },
  {
   "cell_type": "markdown",
   "metadata": {},
   "source": [
    "- Put things here that cement how you will interact/communicate as a team, how \n",
    "- Communicate through Discord\n",
    "- Collaborate on coding through google collab\n",
    "- Collaborate on reports through google doc \n",
    "- Weekly Team Meetings to evaluate progress and go over any issues/roadblocks\n",
    "- Issues/roadblocks will be handled as a group if needed or giving guidance where confusion may have been caused\n",
    "- Meeting scheduled goals/progression according to the timeline\n",
    "- Roadblocks that may affect the timeline will be discussed and the timeline will be adjusted accordingly"
   ]
  },
  {
   "cell_type": "markdown",
   "metadata": {},
   "source": [
    "# Project Timeline Proposal"
   ]
  },
  {
   "cell_type": "markdown",
   "metadata": {},
   "source": [
    "UPDATE THE PROPOSAL TIMELINE ACCORDING TO WHAT HAS ACTUALLY HAPPENED AND HOW IT HAS EFFECTED YOUR FUTURE PLANS\n",
    "\n",
    "| Meeting Date  | Meeting Time| Completed Before Meeting  | Discuss at Meeting |\n",
    "|---|---|---|---|\n",
    "| 5/20  | 5 PM  | Each Member clean or visualize own section (All) |Review/Edit wrangling/EDA; Revise from the proposal peer review, Work on Baseline Performance Evaluation, Submit Checkpoint 1   |\n",
    "| 5/25  | 5 PM  | Finalize wrangling/EDA; Begin programming for project (All) | Discuss/edit project code; Complete project |\n",
    "| 5/29  |  5 PM |  Finish the first major model.  | Discuss results and look for improvement. | \n",
    "| 6/1  |  5 PM |  Finish the second major model | Discuss results and look for improvement | \n",
    "| 6/02  | 5 PM | Complete analysis; Draft results/conclusion/discussion (Carlos)| Discuss/edit full project |\n",
    "| 6/5  | 5 PM  | Complete Draft  | Discuss what to improve on. Gather questions for TA if we have any.   |\n",
    "| 6/08  | 1 PM  | NA | Turn in Final Project  |"
   ]
  },
  {
   "cell_type": "markdown",
   "metadata": {},
   "source": [
    "# Footnotes\n",
    "<a name=\"healthlinenote\"></a>1.[^](#healthline):  Thomas, J. (16 July 2020) Heart Disease: Facts, Statistics, and You. Healthline Media. https://www.healthline.com/health/heart-disease/statistics <br>\n",
    "<a name=\"admonishnote\"></a>2.[^](#admonish): Heart Disease Facts CDC. https://www.cdc.gov/heartdisease/facts.htm <br>\n",
    "<a name=\"sotanote\"></a>3.[^](#sota): Data source: https://www.kaggle.com/datasets/kamilpytlak/personal-key-indicators-of-heart-disease <br>\n",
    "<a name=\"sotanote\"></a>4.[^](#sota): Know Your Risk for Heart Disease. CDC.: https://www.cdc.gov/heartdisease/risk_factors.htm"
   ]
  },
  {
   "cell_type": "code",
   "execution_count": null,
   "metadata": {},
   "outputs": [],
   "source": []
  }
 ],
 "metadata": {
  "kernelspec": {
   "display_name": "Python 3 (ipykernel)",
   "language": "python",
   "name": "python3"
  },
  "language_info": {
   "codemirror_mode": {
    "name": "ipython",
    "version": 3
   },
   "file_extension": ".py",
   "mimetype": "text/x-python",
   "name": "python",
   "nbconvert_exporter": "python",
   "pygments_lexer": "ipython3",
   "version": "3.8.2"
  }
 },
 "nbformat": 4,
 "nbformat_minor": 2
}
